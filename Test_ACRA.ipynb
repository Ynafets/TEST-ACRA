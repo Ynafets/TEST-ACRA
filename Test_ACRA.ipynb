{
  "nbformat": 4,
  "nbformat_minor": 0,
  "metadata": {
    "colab": {
      "name": "Test-ACRA.ipynb",
      "provenance": [],
      "authorship_tag": "ABX9TyPTCdu7MCfcN6LEE9mIF7H+",
      "include_colab_link": true
    },
    "kernelspec": {
      "name": "python3",
      "display_name": "Python 3"
    },
    "language_info": {
      "name": "python"
    }
  },
  "cells": [
    {
      "cell_type": "markdown",
      "metadata": {
        "id": "view-in-github",
        "colab_type": "text"
      },
      "source": [
        "<a href=\"https://colab.research.google.com/github/Ynafets/TEST-ACRA/blob/main/Test_ACRA.ipynb\" target=\"_parent\"><img src=\"https://colab.research.google.com/assets/colab-badge.svg\" alt=\"Open In Colab\"/></a>"
      ]
    },
    {
      "cell_type": "markdown",
      "source": [
        "## **Metodología CRISP-DM**\n",
        "\n",
        "Es una metodología de trabajo creada para orientar procesos de minería de datos. Su nombre es dado por las siglas en inglés.\n",
        "\n",
        "**CR**oss **I**ndustry **S**tandard **P**rocess for **D**ata **M**ining\n"
      ],
      "metadata": {
        "id": "6y-hjfI8bx6j"
      }
    },
    {
      "cell_type": "markdown",
      "source": [
        "## **Carga de las librerías necesarias**\n"
      ],
      "metadata": {
        "id": "ExtzJOl1b2AA"
      }
    },
    {
      "cell_type": "code",
      "source": [
        "import numpy as np\n",
        "import pandas as pd\n",
        "import matplotlib.pyplot as plt\n",
        "import seaborn as sb\n",
        "import sklearn"
      ],
      "metadata": {
        "id": "1otsRncwcR9C"
      },
      "execution_count": null,
      "outputs": []
    },
    {
      "cell_type": "markdown",
      "source": [
        "## **Carga del Dataset**"
      ],
      "metadata": {
        "id": "J-r1_3f8cb_i"
      }
    },
    {
      "cell_type": "markdown",
      "source": [
        "Resultados del TEST-ACRA \n"
      ],
      "metadata": {
        "id": "CrnlOmBne6IX"
      }
    },
    {
      "cell_type": "code",
      "source": [
        "#Cargamos la data del TEST ACRA\n",
        "acra=pd.read_excel()"
      ],
      "metadata": {
        "id": "Q-zZVFMPfoF8"
      },
      "execution_count": null,
      "outputs": []
    }
  ]
}