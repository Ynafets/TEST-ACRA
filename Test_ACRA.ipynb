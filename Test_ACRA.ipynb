{
  "nbformat": 4,
  "nbformat_minor": 0,
  "metadata": {
    "colab": {
      "name": "Test-ACRA.ipynb",
      "provenance": [],
      "toc_visible": true,
      "authorship_tag": "ABX9TyO/xAqgQ+pk+RkL7iGI0gxk",
      "include_colab_link": true
    },
    "kernelspec": {
      "name": "python3",
      "display_name": "Python 3"
    },
    "language_info": {
      "name": "python"
    }
  },
  "cells": [
    {
      "cell_type": "markdown",
      "metadata": {
        "id": "view-in-github",
        "colab_type": "text"
      },
      "source": [
        "<a href=\"https://colab.research.google.com/github/Ynafets/TEST-ACRA/blob/main/Test_ACRA.ipynb\" target=\"_parent\"><img src=\"https://colab.research.google.com/assets/colab-badge.svg\" alt=\"Open In Colab\"/></a>"
      ]
    },
    {
      "cell_type": "markdown",
      "source": [
        "## **Metodología CRISP-DM**\n",
        "\n",
        "---\n",
        "\n",
        "\n",
        "\n",
        "Es una metodología de trabajo creada para orientar procesos de minería de datos. Su nombre es dado por las siglas en inglés.\n",
        "\n",
        "**CR**oss **I**ndustry **S**tandard **P**rocess for **D**ata **M**ining\n"
      ],
      "metadata": {
        "id": "6y-hjfI8bx6j"
      }
    },
    {
      "cell_type": "markdown",
      "source": [
        "## **Carga de las librerías necesarias**\n"
      ],
      "metadata": {
        "id": "ExtzJOl1b2AA"
      }
    },
    {
      "cell_type": "code",
      "source": [
        "\n",
        "!pip install --upgrade pandas\n",
        "!pip install --upgrade openpyxl"
      ],
      "metadata": {
        "colab": {
          "base_uri": "https://localhost:8080/"
        },
        "id": "ySTpocbw193r",
        "outputId": "fd4b4ba8-9e04-4f30-f24d-7095d1bdd332"
      },
      "execution_count": 1,
      "outputs": [
        {
          "output_type": "stream",
          "name": "stdout",
          "text": [
            "Requirement already satisfied: pandas in /usr/local/lib/python3.7/dist-packages (1.3.5)\n",
            "Requirement already satisfied: numpy>=1.17.3 in /usr/local/lib/python3.7/dist-packages (from pandas) (1.19.5)\n",
            "Requirement already satisfied: pytz>=2017.3 in /usr/local/lib/python3.7/dist-packages (from pandas) (2018.9)\n",
            "Requirement already satisfied: python-dateutil>=2.7.3 in /usr/local/lib/python3.7/dist-packages (from pandas) (2.8.2)\n",
            "Requirement already satisfied: six>=1.5 in /usr/local/lib/python3.7/dist-packages (from python-dateutil>=2.7.3->pandas) (1.15.0)\n",
            "Requirement already satisfied: openpyxl in /usr/local/lib/python3.7/dist-packages (3.0.9)\n",
            "Requirement already satisfied: et-xmlfile in /usr/local/lib/python3.7/dist-packages (from openpyxl) (1.1.0)\n"
          ]
        }
      ]
    },
    {
      "cell_type": "code",
      "source": [
        "import numpy as np\n",
        "import pandas as pd\n",
        "import matplotlib.pyplot as plt\n",
        "import seaborn as sb\n",
        "import sklearn\n",
        "\n"
      ],
      "metadata": {
        "id": "1otsRncwcR9C"
      },
      "execution_count": 150,
      "outputs": []
    },
    {
      "cell_type": "code",
      "source": [
        "pd.__version__"
      ],
      "metadata": {
        "colab": {
          "base_uri": "https://localhost:8080/",
          "height": 35
        },
        "id": "6Rd3Ya9t1ikb",
        "outputId": "df94cfe6-8b90-4384-c7cf-eed327950513"
      },
      "execution_count": 3,
      "outputs": [
        {
          "output_type": "execute_result",
          "data": {
            "application/vnd.google.colaboratory.intrinsic+json": {
              "type": "string"
            },
            "text/plain": [
              "'1.3.5'"
            ]
          },
          "metadata": {},
          "execution_count": 3
        }
      ]
    },
    {
      "cell_type": "markdown",
      "source": [
        "## **Carga del Dataset**"
      ],
      "metadata": {
        "id": "J-r1_3f8cb_i"
      }
    },
    {
      "cell_type": "markdown",
      "source": [
        "Resultados del TEST-ACRA \n"
      ],
      "metadata": {
        "id": "CrnlOmBne6IX"
      }
    },
    {
      "cell_type": "code",
      "source": [
        "#Cargamos la data del TEST ACRA\n",
        "acra=pd.read_excel('https://github.com/Ynafets/TEST-ACRA/blob/main/ENCUESTA_ACRA2.xlsx?raw=true',index_col=0)\n",
        "print(acra.shape)"
      ],
      "metadata": {
        "id": "Q-zZVFMPfoF8",
        "colab": {
          "base_uri": "https://localhost:8080/"
        },
        "outputId": "8b912b56-3fdb-4be0-ae3e-e96c2ed14b61"
      },
      "execution_count": 4,
      "outputs": [
        {
          "output_type": "stream",
          "name": "stdout",
          "text": [
            "(139, 66)\n"
          ]
        }
      ]
    },
    {
      "cell_type": "code",
      "source": [
        "type(acra)"
      ],
      "metadata": {
        "colab": {
          "base_uri": "https://localhost:8080/"
        },
        "id": "U0aNJXgTs5OP",
        "outputId": "c8d68ee8-d704-4e48-f20a-033cb2fe99f3"
      },
      "execution_count": 5,
      "outputs": [
        {
          "output_type": "execute_result",
          "data": {
            "text/plain": [
              "pandas.core.frame.DataFrame"
            ]
          },
          "metadata": {},
          "execution_count": 5
        }
      ]
    },
    {
      "cell_type": "code",
      "source": [
        "acra"
      ],
      "metadata": {
        "id": "mFI-VVJYtB7b"
      },
      "execution_count": null,
      "outputs": []
    },
    {
      "cell_type": "code",
      "source": [
        "#Visualizar los 5 primeros resultados\n",
        "acra.head(5)"
      ],
      "metadata": {
        "colab": {
          "base_uri": "https://localhost:8080/",
          "height": 379
        },
        "id": "9bDmLCylwiuy",
        "outputId": "738aef4c-297d-4e4b-f143-cf8651bc54b4"
      },
      "execution_count": 7,
      "outputs": [
        {
          "output_type": "execute_result",
          "data": {
            "text/html": [
              "\n",
              "  <div id=\"df-789d3dce-b32d-4f6b-83be-5b8355a28afe\">\n",
              "    <div class=\"colab-df-container\">\n",
              "      <div>\n",
              "<style scoped>\n",
              "    .dataframe tbody tr th:only-of-type {\n",
              "        vertical-align: middle;\n",
              "    }\n",
              "\n",
              "    .dataframe tbody tr th {\n",
              "        vertical-align: top;\n",
              "    }\n",
              "\n",
              "    .dataframe thead th {\n",
              "        text-align: right;\n",
              "    }\n",
              "</style>\n",
              "<table border=\"1\" class=\"dataframe\">\n",
              "  <thead>\n",
              "    <tr style=\"text-align: right;\">\n",
              "      <th></th>\n",
              "      <th>EMAIL</th>\n",
              "      <th>APELLIDOS_NOMBRES</th>\n",
              "      <th>DISTRITO_VIVE</th>\n",
              "      <th>EDAD</th>\n",
              "      <th>SEXO</th>\n",
              "      <th>CONDICION_ESTUDIANTE</th>\n",
              "      <th>PG_ACRA_1</th>\n",
              "      <th>PG_ACRA_2</th>\n",
              "      <th>PG_ACRA_3</th>\n",
              "      <th>PG_ACRA_4</th>\n",
              "      <th>PG_ACRA_5</th>\n",
              "      <th>PG_ACRA_6</th>\n",
              "      <th>PG_ACRA_7</th>\n",
              "      <th>PG_ACRA_8</th>\n",
              "      <th>PG_ACRA_9</th>\n",
              "      <th>PG_ACRA_10</th>\n",
              "      <th>PG_ACRA_11</th>\n",
              "      <th>PG_ACRA_12</th>\n",
              "      <th>PG_ACRA_13</th>\n",
              "      <th>PG_ACRA_14</th>\n",
              "      <th>PG_ACRA_15</th>\n",
              "      <th>PG_ACRA_16</th>\n",
              "      <th>PG_ACRA_17</th>\n",
              "      <th>PG_ACRA_18</th>\n",
              "      <th>PG_ACRA_19</th>\n",
              "      <th>PG_ACRA_20</th>\n",
              "      <th>PG_ACRA_21</th>\n",
              "      <th>PG_ACRA_22</th>\n",
              "      <th>PG_ACRA_23</th>\n",
              "      <th>PG_ACRA_24</th>\n",
              "      <th>PG_ACRA_25</th>\n",
              "      <th>PG_ACRA_26</th>\n",
              "      <th>PG_ACRA_27</th>\n",
              "      <th>PG_ACRA_28</th>\n",
              "      <th>PG_ACRA_29</th>\n",
              "      <th>PG_ACRA_30</th>\n",
              "      <th>PG_ACRA_31</th>\n",
              "      <th>PG_ACRA_32</th>\n",
              "      <th>PG_ACRA_33</th>\n",
              "      <th>PG_ACRA_34</th>\n",
              "      <th>PG_ACRA_35</th>\n",
              "      <th>PG_ACRA_36</th>\n",
              "      <th>PG_ACRA_37</th>\n",
              "      <th>PG_ACRA_38</th>\n",
              "      <th>PG_ACRA_39</th>\n",
              "      <th>PG_ACRA_40</th>\n",
              "      <th>PG_ACRA_41</th>\n",
              "      <th>PG_ACRA_42</th>\n",
              "      <th>PG_ACRA_43</th>\n",
              "      <th>PG_ACRA_44</th>\n",
              "      <th>PG_ACRA_45</th>\n",
              "      <th>PG_ACRA_46</th>\n",
              "      <th>PG_ACRA_47</th>\n",
              "      <th>PG_ACRA_48</th>\n",
              "      <th>PG_ACRA_49</th>\n",
              "      <th>PG_ACRA_50</th>\n",
              "      <th>PG_ACRA_51</th>\n",
              "      <th>PG_ACRA_52</th>\n",
              "      <th>PG_ACRA_53</th>\n",
              "      <th>PG_ACRA_54</th>\n",
              "      <th>PG_ACRA_55</th>\n",
              "      <th>PG_ACRA_56</th>\n",
              "      <th>PG_ACRA_57</th>\n",
              "      <th>PG_ACRA_58</th>\n",
              "      <th>PG_ACRA_59</th>\n",
              "      <th>PG_ACRA_60</th>\n",
              "    </tr>\n",
              "    <tr>\n",
              "      <th>ID_RES_ACRA</th>\n",
              "      <th></th>\n",
              "      <th></th>\n",
              "      <th></th>\n",
              "      <th></th>\n",
              "      <th></th>\n",
              "      <th></th>\n",
              "      <th></th>\n",
              "      <th></th>\n",
              "      <th></th>\n",
              "      <th></th>\n",
              "      <th></th>\n",
              "      <th></th>\n",
              "      <th></th>\n",
              "      <th></th>\n",
              "      <th></th>\n",
              "      <th></th>\n",
              "      <th></th>\n",
              "      <th></th>\n",
              "      <th></th>\n",
              "      <th></th>\n",
              "      <th></th>\n",
              "      <th></th>\n",
              "      <th></th>\n",
              "      <th></th>\n",
              "      <th></th>\n",
              "      <th></th>\n",
              "      <th></th>\n",
              "      <th></th>\n",
              "      <th></th>\n",
              "      <th></th>\n",
              "      <th></th>\n",
              "      <th></th>\n",
              "      <th></th>\n",
              "      <th></th>\n",
              "      <th></th>\n",
              "      <th></th>\n",
              "      <th></th>\n",
              "      <th></th>\n",
              "      <th></th>\n",
              "      <th></th>\n",
              "      <th></th>\n",
              "      <th></th>\n",
              "      <th></th>\n",
              "      <th></th>\n",
              "      <th></th>\n",
              "      <th></th>\n",
              "      <th></th>\n",
              "      <th></th>\n",
              "      <th></th>\n",
              "      <th></th>\n",
              "      <th></th>\n",
              "      <th></th>\n",
              "      <th></th>\n",
              "      <th></th>\n",
              "      <th></th>\n",
              "      <th></th>\n",
              "      <th></th>\n",
              "      <th></th>\n",
              "      <th></th>\n",
              "      <th></th>\n",
              "      <th></th>\n",
              "      <th></th>\n",
              "      <th></th>\n",
              "      <th></th>\n",
              "      <th></th>\n",
              "      <th></th>\n",
              "    </tr>\n",
              "  </thead>\n",
              "  <tbody>\n",
              "    <tr>\n",
              "      <th>1</th>\n",
              "      <td>jorge.cantos@unmsm.edu.pe</td>\n",
              "      <td>CANTOS HUERTO JORGE ARMANDO</td>\n",
              "      <td>SAN JUAN DE LURIGANCHO</td>\n",
              "      <td>23</td>\n",
              "      <td>MASCULINO</td>\n",
              "      <td>SOLO ESTUDIA</td>\n",
              "      <td>d) Siempre o casi siempre</td>\n",
              "      <td>b) Algunas veces</td>\n",
              "      <td>d) Siempre o casi siempre</td>\n",
              "      <td>d) Siempre o casi siempre</td>\n",
              "      <td>d) Siempre o casi siempre</td>\n",
              "      <td>d) Siempre o casi siempre</td>\n",
              "      <td>d) Siempre o casi siempre</td>\n",
              "      <td>d) Siempre o casi siempre</td>\n",
              "      <td>d) Siempre o casi siempre</td>\n",
              "      <td>b) Algunas veces</td>\n",
              "      <td>b) Algunas veces</td>\n",
              "      <td>b) Algunas veces</td>\n",
              "      <td>a) Nunca o casi nunca</td>\n",
              "      <td>c) Bastantes</td>\n",
              "      <td>a) Nunca o casi nunca</td>\n",
              "      <td>a) Nunca o casi nunca</td>\n",
              "      <td>a) Nunca o casi nunca</td>\n",
              "      <td>b) Algunas veces</td>\n",
              "      <td>d) Siempre o casi siempre</td>\n",
              "      <td>a) Nunca o casi nunca</td>\n",
              "      <td>c) Bastantes</td>\n",
              "      <td>c) Bastantes</td>\n",
              "      <td>d) Siempre o casi siempre</td>\n",
              "      <td>d) Siempre o casi siempre</td>\n",
              "      <td>b) Algunas veces</td>\n",
              "      <td>d) Siempre o casi siempre</td>\n",
              "      <td>b) Algunas veces</td>\n",
              "      <td>b) Algunas veces</td>\n",
              "      <td>d) Siempre o casi siempre</td>\n",
              "      <td>c) Bastantes</td>\n",
              "      <td>d) Siempre o casi siempre</td>\n",
              "      <td>d) Siempre o casi siempre</td>\n",
              "      <td>b) Algunas veces</td>\n",
              "      <td>d) Siempre o casi siempre</td>\n",
              "      <td>c) Bastantes</td>\n",
              "      <td>d) Siempre o casi siempre</td>\n",
              "      <td>c) Bastantes</td>\n",
              "      <td>c) Bastantes</td>\n",
              "      <td>b) Algunas veces</td>\n",
              "      <td>d) Siempre o casi siempre</td>\n",
              "      <td>b) Algunas veces</td>\n",
              "      <td>c) Bastantes</td>\n",
              "      <td>d) Siempre o casi siempre</td>\n",
              "      <td>d) Siempre o casi siempre</td>\n",
              "      <td>a) Nunca o casi nunca</td>\n",
              "      <td>d) Siempre o casi siempre</td>\n",
              "      <td>c) Bastantes</td>\n",
              "      <td>c) Bastantes</td>\n",
              "      <td>d) Siempre o casi siempre</td>\n",
              "      <td>c) Bastantes</td>\n",
              "      <td>d) Siempre o casi siempre</td>\n",
              "      <td>b) Algunas veces</td>\n",
              "      <td>b) Algunas veces</td>\n",
              "      <td>c) Bastantes</td>\n",
              "      <td>a) Nunca o casi nunca</td>\n",
              "      <td>c) Bastantes</td>\n",
              "      <td>c) Bastantes</td>\n",
              "      <td>d) Siempre o casi siempre</td>\n",
              "      <td>c) Bastantes</td>\n",
              "      <td>c) Bastantes</td>\n",
              "    </tr>\n",
              "    <tr>\n",
              "      <th>2</th>\n",
              "      <td>milagros.marquina@unmsm.edu.pe</td>\n",
              "      <td>MARQUINA MORA MILAGROS JULISA</td>\n",
              "      <td>SANTA ANITA</td>\n",
              "      <td>24</td>\n",
              "      <td>FEMENINO</td>\n",
              "      <td>SOLO ESTUDIA</td>\n",
              "      <td>b) Algunas veces</td>\n",
              "      <td>c) Bastantes</td>\n",
              "      <td>b) Algunas veces</td>\n",
              "      <td>b) Algunas veces</td>\n",
              "      <td>c) Bastantes</td>\n",
              "      <td>b) Algunas veces</td>\n",
              "      <td>b) Algunas veces</td>\n",
              "      <td>c) Bastantes</td>\n",
              "      <td>c) Bastantes</td>\n",
              "      <td>b) Algunas veces</td>\n",
              "      <td>b) Algunas veces</td>\n",
              "      <td>a) Nunca o casi nunca</td>\n",
              "      <td>b) Algunas veces</td>\n",
              "      <td>b) Algunas veces</td>\n",
              "      <td>c) Bastantes</td>\n",
              "      <td>b) Algunas veces</td>\n",
              "      <td>b) Algunas veces</td>\n",
              "      <td>b) Algunas veces</td>\n",
              "      <td>b) Algunas veces</td>\n",
              "      <td>b) Algunas veces</td>\n",
              "      <td>c) Bastantes</td>\n",
              "      <td>b) Algunas veces</td>\n",
              "      <td>b) Algunas veces</td>\n",
              "      <td>c) Bastantes</td>\n",
              "      <td>b) Algunas veces</td>\n",
              "      <td>b) Algunas veces</td>\n",
              "      <td>b) Algunas veces</td>\n",
              "      <td>b) Algunas veces</td>\n",
              "      <td>a) Nunca o casi nunca</td>\n",
              "      <td>a) Nunca o casi nunca</td>\n",
              "      <td>b) Algunas veces</td>\n",
              "      <td>c) Bastantes</td>\n",
              "      <td>b) Algunas veces</td>\n",
              "      <td>b) Algunas veces</td>\n",
              "      <td>b) Algunas veces</td>\n",
              "      <td>b) Algunas veces</td>\n",
              "      <td>b) Algunas veces</td>\n",
              "      <td>c) Bastantes</td>\n",
              "      <td>c) Bastantes</td>\n",
              "      <td>c) Bastantes</td>\n",
              "      <td>c) Bastantes</td>\n",
              "      <td>c) Bastantes</td>\n",
              "      <td>b) Algunas veces</td>\n",
              "      <td>c) Bastantes</td>\n",
              "      <td>c) Bastantes</td>\n",
              "      <td>c) Bastantes</td>\n",
              "      <td>b) Algunas veces</td>\n",
              "      <td>b) Algunas veces</td>\n",
              "      <td>b) Algunas veces</td>\n",
              "      <td>b) Algunas veces</td>\n",
              "      <td>b) Algunas veces</td>\n",
              "      <td>b) Algunas veces</td>\n",
              "      <td>b) Algunas veces</td>\n",
              "      <td>b) Algunas veces</td>\n",
              "      <td>c) Bastantes</td>\n",
              "      <td>c) Bastantes</td>\n",
              "      <td>c) Bastantes</td>\n",
              "      <td>c) Bastantes</td>\n",
              "      <td>b) Algunas veces</td>\n",
              "      <td>d) Siempre o casi siempre</td>\n",
              "    </tr>\n",
              "    <tr>\n",
              "      <th>3</th>\n",
              "      <td>paul.chipana@unmsm.edu.pe</td>\n",
              "      <td>CHIPANA RAMOS PAUL</td>\n",
              "      <td>CHORRILLOS</td>\n",
              "      <td>26</td>\n",
              "      <td>MASCULINO</td>\n",
              "      <td>SOLO ESTUDIA</td>\n",
              "      <td>b) Algunas veces</td>\n",
              "      <td>b) Algunas veces</td>\n",
              "      <td>b) Algunas veces</td>\n",
              "      <td>b) Algunas veces</td>\n",
              "      <td>b) Algunas veces</td>\n",
              "      <td>b) Algunas veces</td>\n",
              "      <td>b) Algunas veces</td>\n",
              "      <td>b) Algunas veces</td>\n",
              "      <td>c) Bastantes</td>\n",
              "      <td>b) Algunas veces</td>\n",
              "      <td>b) Algunas veces</td>\n",
              "      <td>b) Algunas veces</td>\n",
              "      <td>b) Algunas veces</td>\n",
              "      <td>c) Bastantes</td>\n",
              "      <td>b) Algunas veces</td>\n",
              "      <td>c) Bastantes</td>\n",
              "      <td>b) Algunas veces</td>\n",
              "      <td>b) Algunas veces</td>\n",
              "      <td>b) Algunas veces</td>\n",
              "      <td>b) Algunas veces</td>\n",
              "      <td>b) Algunas veces</td>\n",
              "      <td>b) Algunas veces</td>\n",
              "      <td>c) Bastantes</td>\n",
              "      <td>c) Bastantes</td>\n",
              "      <td>b) Algunas veces</td>\n",
              "      <td>b) Algunas veces</td>\n",
              "      <td>b) Algunas veces</td>\n",
              "      <td>b) Algunas veces</td>\n",
              "      <td>b) Algunas veces</td>\n",
              "      <td>b) Algunas veces</td>\n",
              "      <td>b) Algunas veces</td>\n",
              "      <td>b) Algunas veces</td>\n",
              "      <td>b) Algunas veces</td>\n",
              "      <td>b) Algunas veces</td>\n",
              "      <td>c) Bastantes</td>\n",
              "      <td>b) Algunas veces</td>\n",
              "      <td>c) Bastantes</td>\n",
              "      <td>c) Bastantes</td>\n",
              "      <td>c) Bastantes</td>\n",
              "      <td>c) Bastantes</td>\n",
              "      <td>c) Bastantes</td>\n",
              "      <td>c) Bastantes</td>\n",
              "      <td>a) Nunca o casi nunca</td>\n",
              "      <td>c) Bastantes</td>\n",
              "      <td>b) Algunas veces</td>\n",
              "      <td>d) Siempre o casi siempre</td>\n",
              "      <td>b) Algunas veces</td>\n",
              "      <td>c) Bastantes</td>\n",
              "      <td>b) Algunas veces</td>\n",
              "      <td>c) Bastantes</td>\n",
              "      <td>c) Bastantes</td>\n",
              "      <td>b) Algunas veces</td>\n",
              "      <td>b) Algunas veces</td>\n",
              "      <td>b) Algunas veces</td>\n",
              "      <td>c) Bastantes</td>\n",
              "      <td>c) Bastantes</td>\n",
              "      <td>b) Algunas veces</td>\n",
              "      <td>d) Siempre o casi siempre</td>\n",
              "      <td>c) Bastantes</td>\n",
              "      <td>c) Bastantes</td>\n",
              "    </tr>\n",
              "    <tr>\n",
              "      <th>4</th>\n",
              "      <td>essler.idrogo@unmsm.edu.pe</td>\n",
              "      <td>IDROGO DIAZ JOHANN</td>\n",
              "      <td>PUEBLO LIBRE</td>\n",
              "      <td>22</td>\n",
              "      <td>MASCULINO</td>\n",
              "      <td>SOLO ESTUDIA</td>\n",
              "      <td>a) Nunca o casi nunca</td>\n",
              "      <td>a) Nunca o casi nunca</td>\n",
              "      <td>b) Algunas veces</td>\n",
              "      <td>a) Nunca o casi nunca</td>\n",
              "      <td>a) Nunca o casi nunca</td>\n",
              "      <td>b) Algunas veces</td>\n",
              "      <td>a) Nunca o casi nunca</td>\n",
              "      <td>a) Nunca o casi nunca</td>\n",
              "      <td>b) Algunas veces</td>\n",
              "      <td>a) Nunca o casi nunca</td>\n",
              "      <td>a) Nunca o casi nunca</td>\n",
              "      <td>a) Nunca o casi nunca</td>\n",
              "      <td>a) Nunca o casi nunca</td>\n",
              "      <td>b) Algunas veces</td>\n",
              "      <td>a) Nunca o casi nunca</td>\n",
              "      <td>a) Nunca o casi nunca</td>\n",
              "      <td>b) Algunas veces</td>\n",
              "      <td>a) Nunca o casi nunca</td>\n",
              "      <td>a) Nunca o casi nunca</td>\n",
              "      <td>d) Siempre o casi siempre</td>\n",
              "      <td>b) Algunas veces</td>\n",
              "      <td>a) Nunca o casi nunca</td>\n",
              "      <td>a) Nunca o casi nunca</td>\n",
              "      <td>a) Nunca o casi nunca</td>\n",
              "      <td>a) Nunca o casi nunca</td>\n",
              "      <td>a) Nunca o casi nunca</td>\n",
              "      <td>a) Nunca o casi nunca</td>\n",
              "      <td>d) Siempre o casi siempre</td>\n",
              "      <td>a) Nunca o casi nunca</td>\n",
              "      <td>a) Nunca o casi nunca</td>\n",
              "      <td>b) Algunas veces</td>\n",
              "      <td>d) Siempre o casi siempre</td>\n",
              "      <td>b) Algunas veces</td>\n",
              "      <td>a) Nunca o casi nunca</td>\n",
              "      <td>a) Nunca o casi nunca</td>\n",
              "      <td>b) Algunas veces</td>\n",
              "      <td>d) Siempre o casi siempre</td>\n",
              "      <td>b) Algunas veces</td>\n",
              "      <td>d) Siempre o casi siempre</td>\n",
              "      <td>b) Algunas veces</td>\n",
              "      <td>d) Siempre o casi siempre</td>\n",
              "      <td>b) Algunas veces</td>\n",
              "      <td>b) Algunas veces</td>\n",
              "      <td>c) Bastantes</td>\n",
              "      <td>c) Bastantes</td>\n",
              "      <td>d) Siempre o casi siempre</td>\n",
              "      <td>a) Nunca o casi nunca</td>\n",
              "      <td>a) Nunca o casi nunca</td>\n",
              "      <td>a) Nunca o casi nunca</td>\n",
              "      <td>a) Nunca o casi nunca</td>\n",
              "      <td>a) Nunca o casi nunca</td>\n",
              "      <td>a) Nunca o casi nunca</td>\n",
              "      <td>d) Siempre o casi siempre</td>\n",
              "      <td>b) Algunas veces</td>\n",
              "      <td>a) Nunca o casi nunca</td>\n",
              "      <td>a) Nunca o casi nunca</td>\n",
              "      <td>d) Siempre o casi siempre</td>\n",
              "      <td>d) Siempre o casi siempre</td>\n",
              "      <td>b) Algunas veces</td>\n",
              "      <td>b) Algunas veces</td>\n",
              "    </tr>\n",
              "    <tr>\n",
              "      <th>5</th>\n",
              "      <td>favio.terrones@unmsm.edu.pe</td>\n",
              "      <td>TERRONES CHINCHAY FAVIO ALONSO</td>\n",
              "      <td>CARABAYLLO</td>\n",
              "      <td>22</td>\n",
              "      <td>MASCULINO</td>\n",
              "      <td>SOLO ESTUDIA</td>\n",
              "      <td>c) Bastantes</td>\n",
              "      <td>b) Algunas veces</td>\n",
              "      <td>b) Algunas veces</td>\n",
              "      <td>b) Algunas veces</td>\n",
              "      <td>a) Nunca o casi nunca</td>\n",
              "      <td>b) Algunas veces</td>\n",
              "      <td>b) Algunas veces</td>\n",
              "      <td>b) Algunas veces</td>\n",
              "      <td>a) Nunca o casi nunca</td>\n",
              "      <td>b) Algunas veces</td>\n",
              "      <td>a) Nunca o casi nunca</td>\n",
              "      <td>a) Nunca o casi nunca</td>\n",
              "      <td>b) Algunas veces</td>\n",
              "      <td>c) Bastantes</td>\n",
              "      <td>b) Algunas veces</td>\n",
              "      <td>b) Algunas veces</td>\n",
              "      <td>b) Algunas veces</td>\n",
              "      <td>b) Algunas veces</td>\n",
              "      <td>a) Nunca o casi nunca</td>\n",
              "      <td>c) Bastantes</td>\n",
              "      <td>b) Algunas veces</td>\n",
              "      <td>b) Algunas veces</td>\n",
              "      <td>b) Algunas veces</td>\n",
              "      <td>b) Algunas veces</td>\n",
              "      <td>b) Algunas veces</td>\n",
              "      <td>b) Algunas veces</td>\n",
              "      <td>c) Bastantes</td>\n",
              "      <td>c) Bastantes</td>\n",
              "      <td>c) Bastantes</td>\n",
              "      <td>b) Algunas veces</td>\n",
              "      <td>b) Algunas veces</td>\n",
              "      <td>a) Nunca o casi nunca</td>\n",
              "      <td>b) Algunas veces</td>\n",
              "      <td>b) Algunas veces</td>\n",
              "      <td>c) Bastantes</td>\n",
              "      <td>c) Bastantes</td>\n",
              "      <td>b) Algunas veces</td>\n",
              "      <td>b) Algunas veces</td>\n",
              "      <td>c) Bastantes</td>\n",
              "      <td>c) Bastantes</td>\n",
              "      <td>c) Bastantes</td>\n",
              "      <td>b) Algunas veces</td>\n",
              "      <td>c) Bastantes</td>\n",
              "      <td>b) Algunas veces</td>\n",
              "      <td>c) Bastantes</td>\n",
              "      <td>b) Algunas veces</td>\n",
              "      <td>b) Algunas veces</td>\n",
              "      <td>c) Bastantes</td>\n",
              "      <td>c) Bastantes</td>\n",
              "      <td>c) Bastantes</td>\n",
              "      <td>c) Bastantes</td>\n",
              "      <td>c) Bastantes</td>\n",
              "      <td>c) Bastantes</td>\n",
              "      <td>c) Bastantes</td>\n",
              "      <td>c) Bastantes</td>\n",
              "      <td>b) Algunas veces</td>\n",
              "      <td>c) Bastantes</td>\n",
              "      <td>c) Bastantes</td>\n",
              "      <td>c) Bastantes</td>\n",
              "      <td>c) Bastantes</td>\n",
              "    </tr>\n",
              "  </tbody>\n",
              "</table>\n",
              "</div>\n",
              "      <button class=\"colab-df-convert\" onclick=\"convertToInteractive('df-789d3dce-b32d-4f6b-83be-5b8355a28afe')\"\n",
              "              title=\"Convert this dataframe to an interactive table.\"\n",
              "              style=\"display:none;\">\n",
              "        \n",
              "  <svg xmlns=\"http://www.w3.org/2000/svg\" height=\"24px\"viewBox=\"0 0 24 24\"\n",
              "       width=\"24px\">\n",
              "    <path d=\"M0 0h24v24H0V0z\" fill=\"none\"/>\n",
              "    <path d=\"M18.56 5.44l.94 2.06.94-2.06 2.06-.94-2.06-.94-.94-2.06-.94 2.06-2.06.94zm-11 1L8.5 8.5l.94-2.06 2.06-.94-2.06-.94L8.5 2.5l-.94 2.06-2.06.94zm10 10l.94 2.06.94-2.06 2.06-.94-2.06-.94-.94-2.06-.94 2.06-2.06.94z\"/><path d=\"M17.41 7.96l-1.37-1.37c-.4-.4-.92-.59-1.43-.59-.52 0-1.04.2-1.43.59L10.3 9.45l-7.72 7.72c-.78.78-.78 2.05 0 2.83L4 21.41c.39.39.9.59 1.41.59.51 0 1.02-.2 1.41-.59l7.78-7.78 2.81-2.81c.8-.78.8-2.07 0-2.86zM5.41 20L4 18.59l7.72-7.72 1.47 1.35L5.41 20z\"/>\n",
              "  </svg>\n",
              "      </button>\n",
              "      \n",
              "  <style>\n",
              "    .colab-df-container {\n",
              "      display:flex;\n",
              "      flex-wrap:wrap;\n",
              "      gap: 12px;\n",
              "    }\n",
              "\n",
              "    .colab-df-convert {\n",
              "      background-color: #E8F0FE;\n",
              "      border: none;\n",
              "      border-radius: 50%;\n",
              "      cursor: pointer;\n",
              "      display: none;\n",
              "      fill: #1967D2;\n",
              "      height: 32px;\n",
              "      padding: 0 0 0 0;\n",
              "      width: 32px;\n",
              "    }\n",
              "\n",
              "    .colab-df-convert:hover {\n",
              "      background-color: #E2EBFA;\n",
              "      box-shadow: 0px 1px 2px rgba(60, 64, 67, 0.3), 0px 1px 3px 1px rgba(60, 64, 67, 0.15);\n",
              "      fill: #174EA6;\n",
              "    }\n",
              "\n",
              "    [theme=dark] .colab-df-convert {\n",
              "      background-color: #3B4455;\n",
              "      fill: #D2E3FC;\n",
              "    }\n",
              "\n",
              "    [theme=dark] .colab-df-convert:hover {\n",
              "      background-color: #434B5C;\n",
              "      box-shadow: 0px 1px 3px 1px rgba(0, 0, 0, 0.15);\n",
              "      filter: drop-shadow(0px 1px 2px rgba(0, 0, 0, 0.3));\n",
              "      fill: #FFFFFF;\n",
              "    }\n",
              "  </style>\n",
              "\n",
              "      <script>\n",
              "        const buttonEl =\n",
              "          document.querySelector('#df-789d3dce-b32d-4f6b-83be-5b8355a28afe button.colab-df-convert');\n",
              "        buttonEl.style.display =\n",
              "          google.colab.kernel.accessAllowed ? 'block' : 'none';\n",
              "\n",
              "        async function convertToInteractive(key) {\n",
              "          const element = document.querySelector('#df-789d3dce-b32d-4f6b-83be-5b8355a28afe');\n",
              "          const dataTable =\n",
              "            await google.colab.kernel.invokeFunction('convertToInteractive',\n",
              "                                                     [key], {});\n",
              "          if (!dataTable) return;\n",
              "\n",
              "          const docLinkHtml = 'Like what you see? Visit the ' +\n",
              "            '<a target=\"_blank\" href=https://colab.research.google.com/notebooks/data_table.ipynb>data table notebook</a>'\n",
              "            + ' to learn more about interactive tables.';\n",
              "          element.innerHTML = '';\n",
              "          dataTable['output_type'] = 'display_data';\n",
              "          await google.colab.output.renderOutput(dataTable, element);\n",
              "          const docLink = document.createElement('div');\n",
              "          docLink.innerHTML = docLinkHtml;\n",
              "          element.appendChild(docLink);\n",
              "        }\n",
              "      </script>\n",
              "    </div>\n",
              "  </div>\n",
              "  "
            ],
            "text/plain": [
              "                                      EMAIL  ...                 PG_ACRA_60\n",
              "ID_RES_ACRA                                  ...                           \n",
              "1                 jorge.cantos@unmsm.edu.pe  ...               c) Bastantes\n",
              "2            milagros.marquina@unmsm.edu.pe  ...  d) Siempre o casi siempre\n",
              "3                 paul.chipana@unmsm.edu.pe  ...               c) Bastantes\n",
              "4                essler.idrogo@unmsm.edu.pe  ...           b) Algunas veces\n",
              "5               favio.terrones@unmsm.edu.pe  ...               c) Bastantes\n",
              "\n",
              "[5 rows x 66 columns]"
            ]
          },
          "metadata": {},
          "execution_count": 7
        },
        {
          "output_type": "stream",
          "name": "stdout",
          "text": [
            "Warning: Total number of columns (66) exceeds max_columns (20) limiting to first (20) columns.\n",
            "Warning: Total number of columns (66) exceeds max_columns (20) limiting to first (20) columns.\n"
          ]
        }
      ]
    },
    {
      "cell_type": "markdown",
      "source": [
        "# **Entendimiento del Negocio**\n",
        "\n",
        "\n",
        "---\n",
        "\n"
      ],
      "metadata": {
        "id": "khgh0bPhtm83"
      }
    },
    {
      "cell_type": "markdown",
      "source": [
        "Objetivos del Negocio\n",
        "\n",
        "\n",
        "*   Elemento de la lista\n",
        "*   Elemento de la lista\n",
        "\n"
      ],
      "metadata": {
        "id": "6ZFQ10OTtxWj"
      }
    },
    {
      "cell_type": "code",
      "source": [
        "acra.info()"
      ],
      "metadata": {
        "colab": {
          "base_uri": "https://localhost:8080/"
        },
        "id": "Fb3fdTZxuBlw",
        "outputId": "97af102a-29bb-4ae6-956a-f3ee92a844f7"
      },
      "execution_count": 8,
      "outputs": [
        {
          "output_type": "stream",
          "name": "stdout",
          "text": [
            "<class 'pandas.core.frame.DataFrame'>\n",
            "Int64Index: 139 entries, 1 to 139\n",
            "Data columns (total 66 columns):\n",
            " #   Column                Non-Null Count  Dtype \n",
            "---  ------                --------------  ----- \n",
            " 0   EMAIL                 139 non-null    object\n",
            " 1   APELLIDOS_NOMBRES     139 non-null    object\n",
            " 2   DISTRITO_VIVE         139 non-null    object\n",
            " 3   EDAD                  139 non-null    int64 \n",
            " 4   SEXO                  139 non-null    object\n",
            " 5   CONDICION_ESTUDIANTE  139 non-null    object\n",
            " 6   PG_ACRA_1             139 non-null    object\n",
            " 7   PG_ACRA_2             139 non-null    object\n",
            " 8   PG_ACRA_3             139 non-null    object\n",
            " 9   PG_ACRA_4             139 non-null    object\n",
            " 10  PG_ACRA_5             139 non-null    object\n",
            " 11  PG_ACRA_6             139 non-null    object\n",
            " 12  PG_ACRA_7             139 non-null    object\n",
            " 13  PG_ACRA_8             139 non-null    object\n",
            " 14  PG_ACRA_9             139 non-null    object\n",
            " 15  PG_ACRA_10            139 non-null    object\n",
            " 16  PG_ACRA_11            139 non-null    object\n",
            " 17  PG_ACRA_12            139 non-null    object\n",
            " 18  PG_ACRA_13            139 non-null    object\n",
            " 19  PG_ACRA_14            139 non-null    object\n",
            " 20  PG_ACRA_15            139 non-null    object\n",
            " 21  PG_ACRA_16            139 non-null    object\n",
            " 22  PG_ACRA_17            139 non-null    object\n",
            " 23  PG_ACRA_18            139 non-null    object\n",
            " 24  PG_ACRA_19            139 non-null    object\n",
            " 25  PG_ACRA_20            139 non-null    object\n",
            " 26  PG_ACRA_21            139 non-null    object\n",
            " 27  PG_ACRA_22            139 non-null    object\n",
            " 28  PG_ACRA_23            139 non-null    object\n",
            " 29  PG_ACRA_24            139 non-null    object\n",
            " 30  PG_ACRA_25            139 non-null    object\n",
            " 31  PG_ACRA_26            139 non-null    object\n",
            " 32  PG_ACRA_27            139 non-null    object\n",
            " 33  PG_ACRA_28            139 non-null    object\n",
            " 34  PG_ACRA_29            139 non-null    object\n",
            " 35  PG_ACRA_30            139 non-null    object\n",
            " 36  PG_ACRA_31            139 non-null    object\n",
            " 37  PG_ACRA_32            139 non-null    object\n",
            " 38  PG_ACRA_33            139 non-null    object\n",
            " 39  PG_ACRA_34            139 non-null    object\n",
            " 40  PG_ACRA_35            139 non-null    object\n",
            " 41  PG_ACRA_36            139 non-null    object\n",
            " 42  PG_ACRA_37            139 non-null    object\n",
            " 43  PG_ACRA_38            139 non-null    object\n",
            " 44  PG_ACRA_39            139 non-null    object\n",
            " 45  PG_ACRA_40            139 non-null    object\n",
            " 46  PG_ACRA_41            139 non-null    object\n",
            " 47  PG_ACRA_42            139 non-null    object\n",
            " 48  PG_ACRA_43            139 non-null    object\n",
            " 49  PG_ACRA_44            139 non-null    object\n",
            " 50  PG_ACRA_45            139 non-null    object\n",
            " 51  PG_ACRA_46            139 non-null    object\n",
            " 52  PG_ACRA_47            139 non-null    object\n",
            " 53  PG_ACRA_48            139 non-null    object\n",
            " 54  PG_ACRA_49            139 non-null    object\n",
            " 55  PG_ACRA_50            139 non-null    object\n",
            " 56  PG_ACRA_51            139 non-null    object\n",
            " 57  PG_ACRA_52            139 non-null    object\n",
            " 58  PG_ACRA_53            139 non-null    object\n",
            " 59  PG_ACRA_54            139 non-null    object\n",
            " 60  PG_ACRA_55            139 non-null    object\n",
            " 61  PG_ACRA_56            139 non-null    object\n",
            " 62  PG_ACRA_57            139 non-null    object\n",
            " 63  PG_ACRA_58            139 non-null    object\n",
            " 64  PG_ACRA_59            139 non-null    object\n",
            " 65  PG_ACRA_60            139 non-null    object\n",
            "dtypes: int64(1), object(65)\n",
            "memory usage: 72.8+ KB\n"
          ]
        }
      ]
    },
    {
      "cell_type": "code",
      "source": [
        "# Valores Faltantes\n",
        "acra.isna().sum()"
      ],
      "metadata": {
        "colab": {
          "base_uri": "https://localhost:8080/"
        },
        "id": "Hnt6fi84ugeD",
        "outputId": "aa9974cc-14ad-4efb-f0f5-6e3569075db3"
      },
      "execution_count": 9,
      "outputs": [
        {
          "output_type": "execute_result",
          "data": {
            "text/plain": [
              "EMAIL                0\n",
              "APELLIDOS_NOMBRES    0\n",
              "DISTRITO_VIVE        0\n",
              "EDAD                 0\n",
              "SEXO                 0\n",
              "                    ..\n",
              "PG_ACRA_56           0\n",
              "PG_ACRA_57           0\n",
              "PG_ACRA_58           0\n",
              "PG_ACRA_59           0\n",
              "PG_ACRA_60           0\n",
              "Length: 66, dtype: int64"
            ]
          },
          "metadata": {},
          "execution_count": 9
        }
      ]
    },
    {
      "cell_type": "markdown",
      "source": [
        "Buscar si hay datos duplicados"
      ],
      "metadata": {
        "id": "5Hg3cPqo-cCV"
      }
    },
    {
      "cell_type": "code",
      "source": [
        "print(acra.duplicated().sum())"
      ],
      "metadata": {
        "colab": {
          "base_uri": "https://localhost:8080/"
        },
        "id": "-NfSWCbN-QZp",
        "outputId": "997aa69a-38a5-415d-833d-f50d8a926925"
      },
      "execution_count": 10,
      "outputs": [
        {
          "output_type": "stream",
          "name": "stdout",
          "text": [
            "0\n"
          ]
        }
      ]
    },
    {
      "cell_type": "markdown",
      "source": [
        "# **Entendimiento de los datos**\n",
        "\n",
        "---\n",
        "\n",
        "\n",
        "*   Describir mis datos usando estadística descriptiva y visualizaciones.\n",
        "*   Entender las relaciones presentes entre las variables de estudio.\n",
        "\n",
        "*  Identificar errores o valores atípicos\n",
        "\n",
        "\n",
        "\n",
        "\n",
        "\n",
        "\n",
        "\n"
      ],
      "metadata": {
        "id": "xHkeyNFITcFU"
      }
    },
    {
      "cell_type": "markdown",
      "source": [
        "##EDAD\n",
        "\n",
        "\n"
      ],
      "metadata": {
        "id": "sZ5XkyOSF8dM"
      }
    },
    {
      "cell_type": "markdown",
      "source": [
        "### *Número de encuestados por EDAD*\n"
      ],
      "metadata": {
        "id": "GN55m14f2LXL"
      }
    },
    {
      "cell_type": "code",
      "source": [
        "n_edad=acra['EDAD'].value_counts()\n",
        "print(\"Edad Cantidad\")\n",
        "print(n_edad)"
      ],
      "metadata": {
        "colab": {
          "base_uri": "https://localhost:8080/"
        },
        "id": "PaLevbUt2QmD",
        "outputId": "40fe614b-ac74-4400-8faa-7e44d6d6088f"
      },
      "execution_count": 17,
      "outputs": [
        {
          "output_type": "stream",
          "name": "stdout",
          "text": [
            "Edad Cantidad\n",
            "21    33\n",
            "23    24\n",
            "22    23\n",
            "20    21\n",
            "24    12\n",
            "25    11\n",
            "26     6\n",
            "19     5\n",
            "18     2\n",
            "28     1\n",
            "27     1\n",
            "Name: EDAD, dtype: int64\n"
          ]
        }
      ]
    },
    {
      "cell_type": "code",
      "source": [
        "edad=acra['EDAD']\n"
      ],
      "metadata": {
        "id": "XWfeK7yS7WZM"
      },
      "execution_count": 13,
      "outputs": []
    },
    {
      "cell_type": "code",
      "source": [
        "# mean como media y std como desviación estandar\n",
        "print(edad.mean())\n",
        "print(edad.std())\n"
      ],
      "metadata": {
        "colab": {
          "base_uri": "https://localhost:8080/"
        },
        "id": "CJ23gCmg257s",
        "outputId": "fc7fcf74-e3f4-4b44-c5aa-8ab73f9fc07d"
      },
      "execution_count": 14,
      "outputs": [
        {
          "output_type": "stream",
          "name": "stdout",
          "text": [
            "22.1294964028777\n",
            "1.940545763566068\n"
          ]
        }
      ]
    },
    {
      "cell_type": "code",
      "source": [
        "#50% de los valores están por debajo de este valor\n",
        "edad.quantile(0.50)"
      ],
      "metadata": {
        "colab": {
          "base_uri": "https://localhost:8080/"
        },
        "id": "tGRbZHDz6nxB",
        "outputId": "614d816a-b25f-4faf-a21a-4274e4b9f786"
      },
      "execution_count": 15,
      "outputs": [
        {
          "output_type": "execute_result",
          "data": {
            "text/plain": [
              "22.0"
            ]
          },
          "metadata": {},
          "execution_count": 15
        }
      ]
    },
    {
      "cell_type": "code",
      "source": [
        "# mean como media y std como desviación estandar\n",
        "# percentil 50% de los valores están por debajo de este valor\n",
        "edad.describe()"
      ],
      "metadata": {
        "colab": {
          "base_uri": "https://localhost:8080/"
        },
        "id": "bBnueGXv1V-j",
        "outputId": "0897d148-00fd-4632-eb5f-6ef08bc6a956"
      },
      "execution_count": 18,
      "outputs": [
        {
          "output_type": "execute_result",
          "data": {
            "text/plain": [
              "count    139.000000\n",
              "mean      22.129496\n",
              "std        1.940546\n",
              "min       18.000000\n",
              "25%       21.000000\n",
              "50%       22.000000\n",
              "75%       23.000000\n",
              "max       28.000000\n",
              "Name: EDAD, dtype: float64"
            ]
          },
          "metadata": {},
          "execution_count": 18
        }
      ]
    },
    {
      "cell_type": "markdown",
      "source": [
        "###Ejemplo de visualización\n",
        "\n",
        "\n",
        "\n"
      ],
      "metadata": {
        "id": "2vteZFIOESR1"
      }
    },
    {
      "cell_type": "code",
      "source": [
        "fig, axes = plt.subplots(1,2, figsize = (20,8))\n",
        "\n",
        "sb.histplot(data=acra, x = 'EDAD', kde=True, binwidth=1,ax = axes[0])\n",
        "#sb.countplot(data=acra, x = 'EDAD',color='c', ax = axes[1])\n",
        "sb.boxplot(data=acra, x = 'EDAD', ax = axes[1],hue='SEXO')\n"
      ],
      "metadata": {
        "colab": {
          "base_uri": "https://localhost:8080/",
          "height": 515
        },
        "id": "HWTolGnC_FaT",
        "outputId": "1909cc0e-ecf4-4164-d23f-8e6f839bf956"
      },
      "execution_count": 19,
      "outputs": [
        {
          "output_type": "execute_result",
          "data": {
            "text/plain": [
              "<matplotlib.axes._subplots.AxesSubplot at 0x7fb5562f06d0>"
            ]
          },
          "metadata": {},
          "execution_count": 19
        },
        {
          "output_type": "display_data",
          "data": {
            "image/png": "[encoded data removed]",
            "text/plain": [
              "<Figure size 1440x576 with 2 Axes>"
            ]
          },
          "metadata": {
            "needs_background": "light"
          }
        }
      ]
    },
    {
      "cell_type": "code",
      "source": [
        "ax=sb.displot(data=acra, x=\"EDAD\", discrete=True,kde=True)\n"
      ],
      "metadata": {
        "colab": {
          "base_uri": "https://localhost:8080/",
          "height": 369
        },
        "id": "r1Lz_gW5Nrqp",
        "outputId": "a0ce9c4e-e64e-4c0f-83a5-914461d5942a"
      },
      "execution_count": 31,
      "outputs": [
        {
          "output_type": "display_data",
          "data": {
            "image/png": "[encoded data removed]",
            "text/plain": [
              "<Figure size 360x360 with 1 Axes>"
            ]
          },
          "metadata": {
            "needs_background": "light"
          }
        }
      ]
    },
    {
      "cell_type": "code",
      "source": [
        "sb.displot(data=acra, x=\"EDAD\",hue=\"SEXO\", discrete=True,kde=True)"
      ],
      "metadata": {
        "colab": {
          "base_uri": "https://localhost:8080/",
          "height": 387
        },
        "id": "uWW3XCUC9xVN",
        "outputId": "147d17e4-6379-4fe3-81f4-25678c6d7c3b"
      },
      "execution_count": 21,
      "outputs": [
        {
          "output_type": "execute_result",
          "data": {
            "text/plain": [
              "<seaborn.axisgrid.FacetGrid at 0x7fb54bcc8fd0>"
            ]
          },
          "metadata": {},
          "execution_count": 21
        },
        {
          "output_type": "display_data",
          "data": {
            "image/png": "[encoded data removed]",
            "text/plain": [
              "<Figure size 455.625x360 with 1 Axes>"
            ]
          },
          "metadata": {
            "needs_background": "light"
          }
        }
      ]
    },
    {
      "cell_type": "markdown",
      "source": [
        "#Género del encuestado"
      ],
      "metadata": {
        "id": "nm-jrPcoR8o6"
      }
    },
    {
      "cell_type": "code",
      "source": [
        "acra['SEXO'].value_counts()"
      ],
      "metadata": {
        "colab": {
          "base_uri": "https://localhost:8080/"
        },
        "id": "6cxpqGpkzkzJ",
        "outputId": "c3874c5d-2c9c-4b34-e053-d5ee1763dcb7"
      },
      "execution_count": 22,
      "outputs": [
        {
          "output_type": "execute_result",
          "data": {
            "text/plain": [
              "MASCULINO    110\n",
              "FEMENINO      29\n",
              "Name: SEXO, dtype: int64"
            ]
          },
          "metadata": {},
          "execution_count": 22
        }
      ]
    },
    {
      "cell_type": "code",
      "metadata": {
        "colab": {
          "base_uri": "https://localhost:8080/"
        },
        "id": "2Tq2o3OAqkjl",
        "outputId": "04902d75-f71a-4d3b-a7e7-51c3d37cf4a6"
      },
      "source": [
        "acra.groupby('SEXO')['EDAD'].mean()"
      ],
      "execution_count": 23,
      "outputs": [
        {
          "output_type": "execute_result",
          "data": {
            "text/plain": [
              "SEXO\n",
              "FEMENINO     21.862069\n",
              "MASCULINO    22.200000\n",
              "Name: EDAD, dtype: float64"
            ]
          },
          "metadata": {},
          "execution_count": 23
        }
      ]
    },
    {
      "cell_type": "markdown",
      "source": [
        "###Ejemplo de visualización"
      ],
      "metadata": {
        "id": "S_KjpD95Xo2I"
      }
    },
    {
      "cell_type": "code",
      "metadata": {
        "colab": {
          "base_uri": "https://localhost:8080/",
          "height": 450
        },
        "id": "WU5Sdi8Bq58k",
        "outputId": "c9065e5b-28ac-4c29-d484-231aa6193556"
      },
      "source": [
        "fig, axes = plt.subplots(1,2,figsize = (12,6))\n",
        "\n",
        "fig.suptitle('Variable Género')\n",
        "sb.countplot(ax = axes[0], data = acra, x = 'SEXO')\n",
        "sb.boxplot(ax = axes[1], data = acra, x = 'SEXO', y = 'EDAD')"
      ],
      "execution_count": 24,
      "outputs": [
        {
          "output_type": "execute_result",
          "data": {
            "text/plain": [
              "<matplotlib.axes._subplots.AxesSubplot at 0x7fb54bbe7750>"
            ]
          },
          "metadata": {},
          "execution_count": 24
        },
        {
          "output_type": "display_data",
          "data": {
            "image/png": "[encoded data removed]",
            "text/plain": [
              "<Figure size 864x432 with 2 Axes>"
            ]
          },
          "metadata": {
            "needs_background": "light"
          }
        }
      ]
    },
    {
      "cell_type": "markdown",
      "metadata": {
        "id": "Lwj8DvQGqub-"
      },
      "source": [
        "#Distrito de residencia"
      ]
    },
    {
      "cell_type": "code",
      "metadata": {
        "colab": {
          "base_uri": "https://localhost:8080/"
        },
        "id": "ibjz7dJ4qWVa",
        "outputId": "0827eb57-f9a6-4999-f44a-e31434d11887"
      },
      "source": [
        "acra['DISTRITO_VIVE'].unique()"
      ],
      "execution_count": 32,
      "outputs": [
        {
          "output_type": "execute_result",
          "data": {
            "text/plain": [
              "array(['SAN JUAN DE LURIGANCHO', 'SANTA ANITA', 'CHORRILLOS',\n",
              "       'PUEBLO LIBRE', 'CARABAYLLO', 'LA VICTORIA', 'SAN IGNACIO',\n",
              "       'PUENTE PIEDRA', 'COMAS', 'ANCON', 'SANTA ROSA', 'CUTERVO',\n",
              "       'SAN MARTÍN DE PORRES', 'VMT', 'ATE', 'HUARAL',\n",
              "       'SAN MARTIN DE PORRES ', 'LOS OLIVOS', 'SANTIAGO DE SURCO',\n",
              "       'CARMEN DE LA LEGUA', 'SAN JUAN DE MIRAFLORES',\n",
              "       'VILLA MARÍA DEL TRIUNFO', 'INDEPENDENCIA', 'CALLAO', 'CESAR OMAR',\n",
              "       'SAN MARTIN DE PORRES', 'CARMEN DE LA LEGUA - CALLAO',\n",
              "       'EL AGUSTINO', 'VILLA EL SALVADOR', 'LURIN', 'CARHUAZ',\n",
              "       'CARMEN DE LA LEGUA REYNOSO', 'JESÚS MARÍA', 'HUARAL ',\n",
              "       'SAN MIGUEL', 'ACOMBAMBA', 'CARABAYLLO ', 'CERCADO DE LIMA',\n",
              "       'LINCE', 'SAN BORJA', 'SAN MARTIN PORRES', 'CHANCAY', 'VENTANILLA',\n",
              "       'LURIGANCHO', 'SAN JUAN DE LURIGANCHO ', 'SAN LUIS', 'PROVINCIA',\n",
              "       'RIMAC', 'CERCADO', 'CHACLACAYO'], dtype=object)"
            ]
          },
          "metadata": {},
          "execution_count": 32
        }
      ]
    },
    {
      "cell_type": "code",
      "source": [
        "n_distrito=acra['DISTRITO_VIVE'].value_counts()\n",
        "type(n_distrito)\n",
        "n_distrito= pd.DataFrame(n_distrito)\n",
        "\n",
        "n_distrito"
      ],
      "metadata": {
        "id": "4-rxyfWdflJo"
      },
      "execution_count": null,
      "outputs": []
    },
    {
      "cell_type": "code",
      "source": [
        "fig = plt.figure(figsize=(16,12))\n",
        "plt.style.use(\"bmh\") \n",
        "plt.barh(n_distrito,n_distrito.index )            \n",
        "# Crear gráfico\n",
        "plt.show()      "
      ],
      "metadata": {
        "id": "EaN0KB6Fjl1W"
      },
      "execution_count": null,
      "outputs": []
    },
    {
      "cell_type": "code",
      "metadata": {
        "colab": {
          "base_uri": "https://localhost:8080/",
          "height": 733
        },
        "id": "-CX6V_72qA62",
        "outputId": "3953ee94-b73e-4801-8da5-09884a4ae8ae"
      },
      "source": [
        "fig = plt.figure(figsize=(18,12))\n",
        "sb.countplot(data = acra, y = 'DISTRITO_VIVE',order= acra['DISTRITO_VIVE'].value_counts().index,palette=\"vlag\")\n",
        "\n",
        "plt.xlabel('Cantidad de estudiantes')\n",
        "plt.ylabel('Distrito de residencia')"
      ],
      "execution_count": 38,
      "outputs": [
        {
          "output_type": "execute_result",
          "data": {
            "text/plain": [
              "Text(0, 0.5, 'Distrito de residencia')"
            ]
          },
          "metadata": {},
          "execution_count": 38
        },
        {
          "output_type": "display_data",
          "data": {
            "image/png": "[encoded data removed]",
            "text/plain": [
              "<Figure size 1296x864 with 1 Axes>"
            ]
          },
          "metadata": {
            "needs_background": "light"
          }
        }
      ]
    },
    {
      "cell_type": "markdown",
      "source": [
        "#Condición del estudiante"
      ],
      "metadata": {
        "id": "PaJ3AoUp7UWS"
      }
    },
    {
      "cell_type": "code",
      "source": [
        "acra['CONDICION_ESTUDIANTE'].value_counts()"
      ],
      "metadata": {
        "colab": {
          "base_uri": "https://localhost:8080/"
        },
        "outputId": "8d89737d-0013-4f8e-ef0b-dd0561175066",
        "id": "h3X-7YTU8ih7"
      },
      "execution_count": 41,
      "outputs": [
        {
          "output_type": "execute_result",
          "data": {
            "text/plain": [
              "SOLO ESTUDIA          88\n",
              "TRABAJA Y ESTUDIA     46\n",
              "ESTUDIA Y PRACTICA     5\n",
              "Name: CONDICION_ESTUDIANTE, dtype: int64"
            ]
          },
          "metadata": {},
          "execution_count": 41
        }
      ]
    },
    {
      "cell_type": "code",
      "metadata": {
        "colab": {
          "base_uri": "https://localhost:8080/"
        },
        "outputId": "1174e131-3732-4085-da9c-8acf9004c3cf",
        "id": "oN2_lRNh8ih8"
      },
      "source": [
        "acra.groupby('CONDICION_ESTUDIANTE')['SEXO'].value_counts()"
      ],
      "execution_count": 42,
      "outputs": [
        {
          "output_type": "execute_result",
          "data": {
            "text/plain": [
              "CONDICION_ESTUDIANTE  SEXO     \n",
              "ESTUDIA Y PRACTICA    MASCULINO     3\n",
              "                      FEMENINO      2\n",
              "SOLO ESTUDIA          MASCULINO    68\n",
              "                      FEMENINO     20\n",
              "TRABAJA Y ESTUDIA     MASCULINO    39\n",
              "                      FEMENINO      7\n",
              "Name: SEXO, dtype: int64"
            ]
          },
          "metadata": {},
          "execution_count": 42
        }
      ]
    },
    {
      "cell_type": "markdown",
      "source": [
        "###Ejemplo de visualización"
      ],
      "metadata": {
        "id": "SaYujLon9Knp"
      }
    },
    {
      "cell_type": "code",
      "metadata": {
        "colab": {
          "base_uri": "https://localhost:8080/",
          "height": 450
        },
        "outputId": "0982c631-4b01-4ba6-ef7b-008f029b7553",
        "id": "Edf5AFIG9Knq"
      },
      "source": [
        "fig, axes = plt.subplots(1,2,figsize = (20,6))\n",
        "\n",
        "fig.suptitle('CONDICION DEL ESTUDIANTE')\n",
        "#sb.countplot(ax = axes[0], data = acra, x = 'CONDICION_ESTUDIANTE',hue='EDAD')\n",
        "sb.countplot(ax = axes[0], data = acra, x = 'EDAD',hue='CONDICION_ESTUDIANTE')\n",
        "sb.boxplot(ax = axes[1], data = acra, x = 'CONDICION_ESTUDIANTE', y = 'EDAD', hue='SEXO')"
      ],
      "execution_count": 45,
      "outputs": [
        {
          "output_type": "execute_result",
          "data": {
            "text/plain": [
              "<matplotlib.axes._subplots.AxesSubplot at 0x7fb54996f5d0>"
            ]
          },
          "metadata": {},
          "execution_count": 45
        },
        {
          "output_type": "display_data",
          "data": {
            "image/png": "[encoded data removed]",
            "text/plain": [
              "<Figure size 1440x432 with 2 Axes>"
            ]
          },
          "metadata": {
            "needs_background": "light"
          }
        }
      ]
    },
    {
      "cell_type": "code",
      "source": [
        "sb.countplot( data = acra, x = 'CONDICION_ESTUDIANTE',hue='SEXO')"
      ],
      "metadata": {
        "colab": {
          "base_uri": "https://localhost:8080/",
          "height": 298
        },
        "id": "XpHILuwo_3vy",
        "outputId": "6fc18190-1019-48ce-b1ad-785027a916f9"
      },
      "execution_count": 44,
      "outputs": [
        {
          "output_type": "execute_result",
          "data": {
            "text/plain": [
              "<matplotlib.axes._subplots.AxesSubplot at 0x7fb54b9d31d0>"
            ]
          },
          "metadata": {},
          "execution_count": 44
        },
        {
          "output_type": "display_data",
          "data": {
            "image/png": "[encoded data removed]",
            "text/plain": [
              "<Figure size 432x288 with 1 Axes>"
            ]
          },
          "metadata": {
            "needs_background": "light"
          }
        }
      ]
    },
    {
      "cell_type": "markdown",
      "source": [
        "# **Preparación: Transformación y limpieza**\n",
        "\n",
        "---"
      ],
      "metadata": {
        "id": "LGnJUxUWOXEG"
      }
    },
    {
      "cell_type": "code",
      "source": [
        "#Datos de información del estudiante\n",
        "info=acra[['CONDICION_ESTUDIANTE','EDAD','DISTRITO_VIVE','SEXO']]\n",
        "info.head()"
      ],
      "metadata": {
        "colab": {
          "base_uri": "https://localhost:8080/",
          "height": 246
        },
        "id": "M05pFvFZqTW5",
        "outputId": "7681e1ef-6b65-44de-bf8e-17c3f5eee89f"
      },
      "execution_count": 83,
      "outputs": [
        {
          "output_type": "execute_result",
          "data": {
            "text/html": [
              "\n",
              "  <div id=\"df-e64d869a-22c4-4e49-96a2-5f762a9711db\">\n",
              "    <div class=\"colab-df-container\">\n",
              "      <div>\n",
              "<style scoped>\n",
              "    .dataframe tbody tr th:only-of-type {\n",
              "        vertical-align: middle;\n",
              "    }\n",
              "\n",
              "    .dataframe tbody tr th {\n",
              "        vertical-align: top;\n",
              "    }\n",
              "\n",
              "    .dataframe thead th {\n",
              "        text-align: right;\n",
              "    }\n",
              "</style>\n",
              "<table border=\"1\" class=\"dataframe\">\n",
              "  <thead>\n",
              "    <tr style=\"text-align: right;\">\n",
              "      <th></th>\n",
              "      <th>CONDICION_ESTUDIANTE</th>\n",
              "      <th>EDAD</th>\n",
              "      <th>DISTRITO_VIVE</th>\n",
              "      <th>SEXO</th>\n",
              "    </tr>\n",
              "    <tr>\n",
              "      <th>ID_RES_ACRA</th>\n",
              "      <th></th>\n",
              "      <th></th>\n",
              "      <th></th>\n",
              "      <th></th>\n",
              "    </tr>\n",
              "  </thead>\n",
              "  <tbody>\n",
              "    <tr>\n",
              "      <th>1</th>\n",
              "      <td>SOLO ESTUDIA</td>\n",
              "      <td>23</td>\n",
              "      <td>SAN JUAN DE LURIGANCHO</td>\n",
              "      <td>MASCULINO</td>\n",
              "    </tr>\n",
              "    <tr>\n",
              "      <th>2</th>\n",
              "      <td>SOLO ESTUDIA</td>\n",
              "      <td>24</td>\n",
              "      <td>SANTA ANITA</td>\n",
              "      <td>FEMENINO</td>\n",
              "    </tr>\n",
              "    <tr>\n",
              "      <th>3</th>\n",
              "      <td>SOLO ESTUDIA</td>\n",
              "      <td>26</td>\n",
              "      <td>CHORRILLOS</td>\n",
              "      <td>MASCULINO</td>\n",
              "    </tr>\n",
              "    <tr>\n",
              "      <th>4</th>\n",
              "      <td>SOLO ESTUDIA</td>\n",
              "      <td>22</td>\n",
              "      <td>PUEBLO LIBRE</td>\n",
              "      <td>MASCULINO</td>\n",
              "    </tr>\n",
              "    <tr>\n",
              "      <th>5</th>\n",
              "      <td>SOLO ESTUDIA</td>\n",
              "      <td>22</td>\n",
              "      <td>CARABAYLLO</td>\n",
              "      <td>MASCULINO</td>\n",
              "    </tr>\n",
              "  </tbody>\n",
              "</table>\n",
              "</div>\n",
              "      <button class=\"colab-df-convert\" onclick=\"convertToInteractive('df-e64d869a-22c4-4e49-96a2-5f762a9711db')\"\n",
              "              title=\"Convert this dataframe to an interactive table.\"\n",
              "              style=\"display:none;\">\n",
              "        \n",
              "  <svg xmlns=\"http://www.w3.org/2000/svg\" height=\"24px\"viewBox=\"0 0 24 24\"\n",
              "       width=\"24px\">\n",
              "    <path d=\"M0 0h24v24H0V0z\" fill=\"none\"/>\n",
              "    <path d=\"M18.56 5.44l.94 2.06.94-2.06 2.06-.94-2.06-.94-.94-2.06-.94 2.06-2.06.94zm-11 1L8.5 8.5l.94-2.06 2.06-.94-2.06-.94L8.5 2.5l-.94 2.06-2.06.94zm10 10l.94 2.06.94-2.06 2.06-.94-2.06-.94-.94-2.06-.94 2.06-2.06.94z\"/><path d=\"M17.41 7.96l-1.37-1.37c-.4-.4-.92-.59-1.43-.59-.52 0-1.04.2-1.43.59L10.3 9.45l-7.72 7.72c-.78.78-.78 2.05 0 2.83L4 21.41c.39.39.9.59 1.41.59.51 0 1.02-.2 1.41-.59l7.78-7.78 2.81-2.81c.8-.78.8-2.07 0-2.86zM5.41 20L4 18.59l7.72-7.72 1.47 1.35L5.41 20z\"/>\n",
              "  </svg>\n",
              "      </button>\n",
              "      \n",
              "  <style>\n",
              "    .colab-df-container {\n",
              "      display:flex;\n",
              "      flex-wrap:wrap;\n",
              "      gap: 12px;\n",
              "    }\n",
              "\n",
              "    .colab-df-convert {\n",
              "      background-color: #E8F0FE;\n",
              "      border: none;\n",
              "      border-radius: 50%;\n",
              "      cursor: pointer;\n",
              "      display: none;\n",
              "      fill: #1967D2;\n",
              "      height: 32px;\n",
              "      padding: 0 0 0 0;\n",
              "      width: 32px;\n",
              "    }\n",
              "\n",
              "    .colab-df-convert:hover {\n",
              "      background-color: #E2EBFA;\n",
              "      box-shadow: 0px 1px 2px rgba(60, 64, 67, 0.3), 0px 1px 3px 1px rgba(60, 64, 67, 0.15);\n",
              "      fill: #174EA6;\n",
              "    }\n",
              "\n",
              "    [theme=dark] .colab-df-convert {\n",
              "      background-color: #3B4455;\n",
              "      fill: #D2E3FC;\n",
              "    }\n",
              "\n",
              "    [theme=dark] .colab-df-convert:hover {\n",
              "      background-color: #434B5C;\n",
              "      box-shadow: 0px 1px 3px 1px rgba(0, 0, 0, 0.15);\n",
              "      filter: drop-shadow(0px 1px 2px rgba(0, 0, 0, 0.3));\n",
              "      fill: #FFFFFF;\n",
              "    }\n",
              "  </style>\n",
              "\n",
              "      <script>\n",
              "        const buttonEl =\n",
              "          document.querySelector('#df-e64d869a-22c4-4e49-96a2-5f762a9711db button.colab-df-convert');\n",
              "        buttonEl.style.display =\n",
              "          google.colab.kernel.accessAllowed ? 'block' : 'none';\n",
              "\n",
              "        async function convertToInteractive(key) {\n",
              "          const element = document.querySelector('#df-e64d869a-22c4-4e49-96a2-5f762a9711db');\n",
              "          const dataTable =\n",
              "            await google.colab.kernel.invokeFunction('convertToInteractive',\n",
              "                                                     [key], {});\n",
              "          if (!dataTable) return;\n",
              "\n",
              "          const docLinkHtml = 'Like what you see? Visit the ' +\n",
              "            '<a target=\"_blank\" href=https://colab.research.google.com/notebooks/data_table.ipynb>data table notebook</a>'\n",
              "            + ' to learn more about interactive tables.';\n",
              "          element.innerHTML = '';\n",
              "          dataTable['output_type'] = 'display_data';\n",
              "          await google.colab.output.renderOutput(dataTable, element);\n",
              "          const docLink = document.createElement('div');\n",
              "          docLink.innerHTML = docLinkHtml;\n",
              "          element.appendChild(docLink);\n",
              "        }\n",
              "      </script>\n",
              "    </div>\n",
              "  </div>\n",
              "  "
            ],
            "text/plain": [
              "            CONDICION_ESTUDIANTE  EDAD           DISTRITO_VIVE       SEXO\n",
              "ID_RES_ACRA                                                              \n",
              "1                   SOLO ESTUDIA    23  SAN JUAN DE LURIGANCHO  MASCULINO\n",
              "2                   SOLO ESTUDIA    24             SANTA ANITA   FEMENINO\n",
              "3                   SOLO ESTUDIA    26              CHORRILLOS  MASCULINO\n",
              "4                   SOLO ESTUDIA    22            PUEBLO LIBRE  MASCULINO\n",
              "5                   SOLO ESTUDIA    22              CARABAYLLO  MASCULINO"
            ]
          },
          "metadata": {},
          "execution_count": 83
        }
      ]
    },
    {
      "cell_type": "code",
      "source": [
        "#ESTRATEGIA DE ADQUISICION E INFORMACION (EADQ)\n",
        "EADQ=acra[['PG_ACRA_1','PG_ACRA_2','PG_ACRA_3','PG_ACRA_4','PG_ACRA_5','PG_ACRA_6','PG_ACRA_7','PG_ACRA_8','PG_ACRA_9','PG_ACRA_10','PG_ACRA_11']]\n",
        "EADQ.head()\n",
        "#type(EADQ)"
      ],
      "metadata": {
        "colab": {
          "base_uri": "https://localhost:8080/",
          "height": 383
        },
        "id": "5trXX7jwQFB3",
        "outputId": "ebee3e71-039b-439b-dd69-de9e71997754"
      },
      "execution_count": 69,
      "outputs": [
        {
          "output_type": "execute_result",
          "data": {
            "text/html": [
              "\n",
              "  <div id=\"df-300f401f-7641-4592-a70b-2b87ddebb12b\">\n",
              "    <div class=\"colab-df-container\">\n",
              "      <div>\n",
              "<style scoped>\n",
              "    .dataframe tbody tr th:only-of-type {\n",
              "        vertical-align: middle;\n",
              "    }\n",
              "\n",
              "    .dataframe tbody tr th {\n",
              "        vertical-align: top;\n",
              "    }\n",
              "\n",
              "    .dataframe thead th {\n",
              "        text-align: right;\n",
              "    }\n",
              "</style>\n",
              "<table border=\"1\" class=\"dataframe\">\n",
              "  <thead>\n",
              "    <tr style=\"text-align: right;\">\n",
              "      <th></th>\n",
              "      <th>PG_ACRA_1</th>\n",
              "      <th>PG_ACRA_2</th>\n",
              "      <th>PG_ACRA_3</th>\n",
              "      <th>PG_ACRA_4</th>\n",
              "      <th>PG_ACRA_5</th>\n",
              "      <th>PG_ACRA_6</th>\n",
              "      <th>PG_ACRA_7</th>\n",
              "      <th>PG_ACRA_8</th>\n",
              "      <th>PG_ACRA_9</th>\n",
              "      <th>PG_ACRA_10</th>\n",
              "      <th>PG_ACRA_11</th>\n",
              "    </tr>\n",
              "    <tr>\n",
              "      <th>ID_RES_ACRA</th>\n",
              "      <th></th>\n",
              "      <th></th>\n",
              "      <th></th>\n",
              "      <th></th>\n",
              "      <th></th>\n",
              "      <th></th>\n",
              "      <th></th>\n",
              "      <th></th>\n",
              "      <th></th>\n",
              "      <th></th>\n",
              "      <th></th>\n",
              "    </tr>\n",
              "  </thead>\n",
              "  <tbody>\n",
              "    <tr>\n",
              "      <th>1</th>\n",
              "      <td>d) Siempre o casi siempre</td>\n",
              "      <td>b) Algunas veces</td>\n",
              "      <td>d) Siempre o casi siempre</td>\n",
              "      <td>d) Siempre o casi siempre</td>\n",
              "      <td>d) Siempre o casi siempre</td>\n",
              "      <td>d) Siempre o casi siempre</td>\n",
              "      <td>d) Siempre o casi siempre</td>\n",
              "      <td>d) Siempre o casi siempre</td>\n",
              "      <td>d) Siempre o casi siempre</td>\n",
              "      <td>b) Algunas veces</td>\n",
              "      <td>b) Algunas veces</td>\n",
              "    </tr>\n",
              "    <tr>\n",
              "      <th>2</th>\n",
              "      <td>b) Algunas veces</td>\n",
              "      <td>c) Bastantes</td>\n",
              "      <td>b) Algunas veces</td>\n",
              "      <td>b) Algunas veces</td>\n",
              "      <td>c) Bastantes</td>\n",
              "      <td>b) Algunas veces</td>\n",
              "      <td>b) Algunas veces</td>\n",
              "      <td>c) Bastantes</td>\n",
              "      <td>c) Bastantes</td>\n",
              "      <td>b) Algunas veces</td>\n",
              "      <td>b) Algunas veces</td>\n",
              "    </tr>\n",
              "    <tr>\n",
              "      <th>3</th>\n",
              "      <td>b) Algunas veces</td>\n",
              "      <td>b) Algunas veces</td>\n",
              "      <td>b) Algunas veces</td>\n",
              "      <td>b) Algunas veces</td>\n",
              "      <td>b) Algunas veces</td>\n",
              "      <td>b) Algunas veces</td>\n",
              "      <td>b) Algunas veces</td>\n",
              "      <td>b) Algunas veces</td>\n",
              "      <td>c) Bastantes</td>\n",
              "      <td>b) Algunas veces</td>\n",
              "      <td>b) Algunas veces</td>\n",
              "    </tr>\n",
              "    <tr>\n",
              "      <th>4</th>\n",
              "      <td>a) Nunca o casi nunca</td>\n",
              "      <td>a) Nunca o casi nunca</td>\n",
              "      <td>b) Algunas veces</td>\n",
              "      <td>a) Nunca o casi nunca</td>\n",
              "      <td>a) Nunca o casi nunca</td>\n",
              "      <td>b) Algunas veces</td>\n",
              "      <td>a) Nunca o casi nunca</td>\n",
              "      <td>a) Nunca o casi nunca</td>\n",
              "      <td>b) Algunas veces</td>\n",
              "      <td>a) Nunca o casi nunca</td>\n",
              "      <td>a) Nunca o casi nunca</td>\n",
              "    </tr>\n",
              "    <tr>\n",
              "      <th>5</th>\n",
              "      <td>c) Bastantes</td>\n",
              "      <td>b) Algunas veces</td>\n",
              "      <td>b) Algunas veces</td>\n",
              "      <td>b) Algunas veces</td>\n",
              "      <td>a) Nunca o casi nunca</td>\n",
              "      <td>b) Algunas veces</td>\n",
              "      <td>b) Algunas veces</td>\n",
              "      <td>b) Algunas veces</td>\n",
              "      <td>a) Nunca o casi nunca</td>\n",
              "      <td>b) Algunas veces</td>\n",
              "      <td>a) Nunca o casi nunca</td>\n",
              "    </tr>\n",
              "  </tbody>\n",
              "</table>\n",
              "</div>\n",
              "      <button class=\"colab-df-convert\" onclick=\"convertToInteractive('df-300f401f-7641-4592-a70b-2b87ddebb12b')\"\n",
              "              title=\"Convert this dataframe to an interactive table.\"\n",
              "              style=\"display:none;\">\n",
              "        \n",
              "  <svg xmlns=\"http://www.w3.org/2000/svg\" height=\"24px\"viewBox=\"0 0 24 24\"\n",
              "       width=\"24px\">\n",
              "    <path d=\"M0 0h24v24H0V0z\" fill=\"none\"/>\n",
              "    <path d=\"M18.56 5.44l.94 2.06.94-2.06 2.06-.94-2.06-.94-.94-2.06-.94 2.06-2.06.94zm-11 1L8.5 8.5l.94-2.06 2.06-.94-2.06-.94L8.5 2.5l-.94 2.06-2.06.94zm10 10l.94 2.06.94-2.06 2.06-.94-2.06-.94-.94-2.06-.94 2.06-2.06.94z\"/><path d=\"M17.41 7.96l-1.37-1.37c-.4-.4-.92-.59-1.43-.59-.52 0-1.04.2-1.43.59L10.3 9.45l-7.72 7.72c-.78.78-.78 2.05 0 2.83L4 21.41c.39.39.9.59 1.41.59.51 0 1.02-.2 1.41-.59l7.78-7.78 2.81-2.81c.8-.78.8-2.07 0-2.86zM5.41 20L4 18.59l7.72-7.72 1.47 1.35L5.41 20z\"/>\n",
              "  </svg>\n",
              "      </button>\n",
              "      \n",
              "  <style>\n",
              "    .colab-df-container {\n",
              "      display:flex;\n",
              "      flex-wrap:wrap;\n",
              "      gap: 12px;\n",
              "    }\n",
              "\n",
              "    .colab-df-convert {\n",
              "      background-color: #E8F0FE;\n",
              "      border: none;\n",
              "      border-radius: 50%;\n",
              "      cursor: pointer;\n",
              "      display: none;\n",
              "      fill: #1967D2;\n",
              "      height: 32px;\n",
              "      padding: 0 0 0 0;\n",
              "      width: 32px;\n",
              "    }\n",
              "\n",
              "    .colab-df-convert:hover {\n",
              "      background-color: #E2EBFA;\n",
              "      box-shadow: 0px 1px 2px rgba(60, 64, 67, 0.3), 0px 1px 3px 1px rgba(60, 64, 67, 0.15);\n",
              "      fill: #174EA6;\n",
              "    }\n",
              "\n",
              "    [theme=dark] .colab-df-convert {\n",
              "      background-color: #3B4455;\n",
              "      fill: #D2E3FC;\n",
              "    }\n",
              "\n",
              "    [theme=dark] .colab-df-convert:hover {\n",
              "      background-color: #434B5C;\n",
              "      box-shadow: 0px 1px 3px 1px rgba(0, 0, 0, 0.15);\n",
              "      filter: drop-shadow(0px 1px 2px rgba(0, 0, 0, 0.3));\n",
              "      fill: #FFFFFF;\n",
              "    }\n",
              "  </style>\n",
              "\n",
              "      <script>\n",
              "        const buttonEl =\n",
              "          document.querySelector('#df-300f401f-7641-4592-a70b-2b87ddebb12b button.colab-df-convert');\n",
              "        buttonEl.style.display =\n",
              "          google.colab.kernel.accessAllowed ? 'block' : 'none';\n",
              "\n",
              "        async function convertToInteractive(key) {\n",
              "          const element = document.querySelector('#df-300f401f-7641-4592-a70b-2b87ddebb12b');\n",
              "          const dataTable =\n",
              "            await google.colab.kernel.invokeFunction('convertToInteractive',\n",
              "                                                     [key], {});\n",
              "          if (!dataTable) return;\n",
              "\n",
              "          const docLinkHtml = 'Like what you see? Visit the ' +\n",
              "            '<a target=\"_blank\" href=https://colab.research.google.com/notebooks/data_table.ipynb>data table notebook</a>'\n",
              "            + ' to learn more about interactive tables.';\n",
              "          element.innerHTML = '';\n",
              "          dataTable['output_type'] = 'display_data';\n",
              "          await google.colab.output.renderOutput(dataTable, element);\n",
              "          const docLink = document.createElement('div');\n",
              "          docLink.innerHTML = docLinkHtml;\n",
              "          element.appendChild(docLink);\n",
              "        }\n",
              "      </script>\n",
              "    </div>\n",
              "  </div>\n",
              "  "
            ],
            "text/plain": [
              "                             PG_ACRA_1  ...             PG_ACRA_11\n",
              "ID_RES_ACRA                             ...                       \n",
              "1            d) Siempre o casi siempre  ...       b) Algunas veces\n",
              "2                     b) Algunas veces  ...       b) Algunas veces\n",
              "3                     b) Algunas veces  ...       b) Algunas veces\n",
              "4                a) Nunca o casi nunca  ...  a) Nunca o casi nunca\n",
              "5                         c) Bastantes  ...  a) Nunca o casi nunca\n",
              "\n",
              "[5 rows x 11 columns]"
            ]
          },
          "metadata": {},
          "execution_count": 69
        }
      ]
    },
    {
      "cell_type": "code",
      "source": [
        "cambio_EADQ= EADQ.replace({\"a) Nunca o casi nunca\":1, \"b) Algunas veces\":2, \"c) Bastantes\":3,\"d) Siempre o casi siempre\":4})\n",
        "cambio_EADQ\n"
      ],
      "metadata": {
        "colab": {
          "base_uri": "https://localhost:8080/",
          "height": 472
        },
        "id": "46DJy2-IZ3F5",
        "outputId": "4feb48f6-0cc7-4836-d547-7d6970eeb268"
      },
      "execution_count": 70,
      "outputs": [
        {
          "output_type": "execute_result",
          "data": {
            "text/html": [
              "\n",
              "  <div id=\"df-d165bef2-f703-48c1-9ded-3f14f8dadb59\">\n",
              "    <div class=\"colab-df-container\">\n",
              "      <div>\n",
              "<style scoped>\n",
              "    .dataframe tbody tr th:only-of-type {\n",
              "        vertical-align: middle;\n",
              "    }\n",
              "\n",
              "    .dataframe tbody tr th {\n",
              "        vertical-align: top;\n",
              "    }\n",
              "\n",
              "    .dataframe thead th {\n",
              "        text-align: right;\n",
              "    }\n",
              "</style>\n",
              "<table border=\"1\" class=\"dataframe\">\n",
              "  <thead>\n",
              "    <tr style=\"text-align: right;\">\n",
              "      <th></th>\n",
              "      <th>PG_ACRA_1</th>\n",
              "      <th>PG_ACRA_2</th>\n",
              "      <th>PG_ACRA_3</th>\n",
              "      <th>PG_ACRA_4</th>\n",
              "      <th>PG_ACRA_5</th>\n",
              "      <th>PG_ACRA_6</th>\n",
              "      <th>PG_ACRA_7</th>\n",
              "      <th>PG_ACRA_8</th>\n",
              "      <th>PG_ACRA_9</th>\n",
              "      <th>PG_ACRA_10</th>\n",
              "      <th>PG_ACRA_11</th>\n",
              "    </tr>\n",
              "    <tr>\n",
              "      <th>ID_RES_ACRA</th>\n",
              "      <th></th>\n",
              "      <th></th>\n",
              "      <th></th>\n",
              "      <th></th>\n",
              "      <th></th>\n",
              "      <th></th>\n",
              "      <th></th>\n",
              "      <th></th>\n",
              "      <th></th>\n",
              "      <th></th>\n",
              "      <th></th>\n",
              "    </tr>\n",
              "  </thead>\n",
              "  <tbody>\n",
              "    <tr>\n",
              "      <th>1</th>\n",
              "      <td>4</td>\n",
              "      <td>2</td>\n",
              "      <td>4</td>\n",
              "      <td>4</td>\n",
              "      <td>4</td>\n",
              "      <td>4</td>\n",
              "      <td>4</td>\n",
              "      <td>4</td>\n",
              "      <td>4</td>\n",
              "      <td>2</td>\n",
              "      <td>2</td>\n",
              "    </tr>\n",
              "    <tr>\n",
              "      <th>2</th>\n",
              "      <td>2</td>\n",
              "      <td>3</td>\n",
              "      <td>2</td>\n",
              "      <td>2</td>\n",
              "      <td>3</td>\n",
              "      <td>2</td>\n",
              "      <td>2</td>\n",
              "      <td>3</td>\n",
              "      <td>3</td>\n",
              "      <td>2</td>\n",
              "      <td>2</td>\n",
              "    </tr>\n",
              "    <tr>\n",
              "      <th>3</th>\n",
              "      <td>2</td>\n",
              "      <td>2</td>\n",
              "      <td>2</td>\n",
              "      <td>2</td>\n",
              "      <td>2</td>\n",
              "      <td>2</td>\n",
              "      <td>2</td>\n",
              "      <td>2</td>\n",
              "      <td>3</td>\n",
              "      <td>2</td>\n",
              "      <td>2</td>\n",
              "    </tr>\n",
              "    <tr>\n",
              "      <th>4</th>\n",
              "      <td>1</td>\n",
              "      <td>1</td>\n",
              "      <td>2</td>\n",
              "      <td>1</td>\n",
              "      <td>1</td>\n",
              "      <td>2</td>\n",
              "      <td>1</td>\n",
              "      <td>1</td>\n",
              "      <td>2</td>\n",
              "      <td>1</td>\n",
              "      <td>1</td>\n",
              "    </tr>\n",
              "    <tr>\n",
              "      <th>5</th>\n",
              "      <td>3</td>\n",
              "      <td>2</td>\n",
              "      <td>2</td>\n",
              "      <td>2</td>\n",
              "      <td>1</td>\n",
              "      <td>2</td>\n",
              "      <td>2</td>\n",
              "      <td>2</td>\n",
              "      <td>1</td>\n",
              "      <td>2</td>\n",
              "      <td>1</td>\n",
              "    </tr>\n",
              "    <tr>\n",
              "      <th>...</th>\n",
              "      <td>...</td>\n",
              "      <td>...</td>\n",
              "      <td>...</td>\n",
              "      <td>...</td>\n",
              "      <td>...</td>\n",
              "      <td>...</td>\n",
              "      <td>...</td>\n",
              "      <td>...</td>\n",
              "      <td>...</td>\n",
              "      <td>...</td>\n",
              "      <td>...</td>\n",
              "    </tr>\n",
              "    <tr>\n",
              "      <th>135</th>\n",
              "      <td>4</td>\n",
              "      <td>4</td>\n",
              "      <td>3</td>\n",
              "      <td>3</td>\n",
              "      <td>3</td>\n",
              "      <td>3</td>\n",
              "      <td>2</td>\n",
              "      <td>2</td>\n",
              "      <td>4</td>\n",
              "      <td>3</td>\n",
              "      <td>3</td>\n",
              "    </tr>\n",
              "    <tr>\n",
              "      <th>136</th>\n",
              "      <td>2</td>\n",
              "      <td>2</td>\n",
              "      <td>2</td>\n",
              "      <td>1</td>\n",
              "      <td>2</td>\n",
              "      <td>1</td>\n",
              "      <td>2</td>\n",
              "      <td>3</td>\n",
              "      <td>2</td>\n",
              "      <td>3</td>\n",
              "      <td>1</td>\n",
              "    </tr>\n",
              "    <tr>\n",
              "      <th>137</th>\n",
              "      <td>2</td>\n",
              "      <td>2</td>\n",
              "      <td>2</td>\n",
              "      <td>2</td>\n",
              "      <td>2</td>\n",
              "      <td>2</td>\n",
              "      <td>2</td>\n",
              "      <td>2</td>\n",
              "      <td>2</td>\n",
              "      <td>2</td>\n",
              "      <td>2</td>\n",
              "    </tr>\n",
              "    <tr>\n",
              "      <th>138</th>\n",
              "      <td>2</td>\n",
              "      <td>2</td>\n",
              "      <td>2</td>\n",
              "      <td>2</td>\n",
              "      <td>2</td>\n",
              "      <td>2</td>\n",
              "      <td>3</td>\n",
              "      <td>3</td>\n",
              "      <td>3</td>\n",
              "      <td>3</td>\n",
              "      <td>2</td>\n",
              "    </tr>\n",
              "    <tr>\n",
              "      <th>139</th>\n",
              "      <td>4</td>\n",
              "      <td>2</td>\n",
              "      <td>4</td>\n",
              "      <td>4</td>\n",
              "      <td>3</td>\n",
              "      <td>3</td>\n",
              "      <td>4</td>\n",
              "      <td>2</td>\n",
              "      <td>2</td>\n",
              "      <td>3</td>\n",
              "      <td>1</td>\n",
              "    </tr>\n",
              "  </tbody>\n",
              "</table>\n",
              "<p>139 rows × 11 columns</p>\n",
              "</div>\n",
              "      <button class=\"colab-df-convert\" onclick=\"convertToInteractive('df-d165bef2-f703-48c1-9ded-3f14f8dadb59')\"\n",
              "              title=\"Convert this dataframe to an interactive table.\"\n",
              "              style=\"display:none;\">\n",
              "        \n",
              "  <svg xmlns=\"http://www.w3.org/2000/svg\" height=\"24px\"viewBox=\"0 0 24 24\"\n",
              "       width=\"24px\">\n",
              "    <path d=\"M0 0h24v24H0V0z\" fill=\"none\"/>\n",
              "    <path d=\"M18.56 5.44l.94 2.06.94-2.06 2.06-.94-2.06-.94-.94-2.06-.94 2.06-2.06.94zm-11 1L8.5 8.5l.94-2.06 2.06-.94-2.06-.94L8.5 2.5l-.94 2.06-2.06.94zm10 10l.94 2.06.94-2.06 2.06-.94-2.06-.94-.94-2.06-.94 2.06-2.06.94z\"/><path d=\"M17.41 7.96l-1.37-1.37c-.4-.4-.92-.59-1.43-.59-.52 0-1.04.2-1.43.59L10.3 9.45l-7.72 7.72c-.78.78-.78 2.05 0 2.83L4 21.41c.39.39.9.59 1.41.59.51 0 1.02-.2 1.41-.59l7.78-7.78 2.81-2.81c.8-.78.8-2.07 0-2.86zM5.41 20L4 18.59l7.72-7.72 1.47 1.35L5.41 20z\"/>\n",
              "  </svg>\n",
              "      </button>\n",
              "      \n",
              "  <style>\n",
              "    .colab-df-container {\n",
              "      display:flex;\n",
              "      flex-wrap:wrap;\n",
              "      gap: 12px;\n",
              "    }\n",
              "\n",
              "    .colab-df-convert {\n",
              "      background-color: #E8F0FE;\n",
              "      border: none;\n",
              "      border-radius: 50%;\n",
              "      cursor: pointer;\n",
              "      display: none;\n",
              "      fill: #1967D2;\n",
              "      height: 32px;\n",
              "      padding: 0 0 0 0;\n",
              "      width: 32px;\n",
              "    }\n",
              "\n",
              "    .colab-df-convert:hover {\n",
              "      background-color: #E2EBFA;\n",
              "      box-shadow: 0px 1px 2px rgba(60, 64, 67, 0.3), 0px 1px 3px 1px rgba(60, 64, 67, 0.15);\n",
              "      fill: #174EA6;\n",
              "    }\n",
              "\n",
              "    [theme=dark] .colab-df-convert {\n",
              "      background-color: #3B4455;\n",
              "      fill: #D2E3FC;\n",
              "    }\n",
              "\n",
              "    [theme=dark] .colab-df-convert:hover {\n",
              "      background-color: #434B5C;\n",
              "      box-shadow: 0px 1px 3px 1px rgba(0, 0, 0, 0.15);\n",
              "      filter: drop-shadow(0px 1px 2px rgba(0, 0, 0, 0.3));\n",
              "      fill: #FFFFFF;\n",
              "    }\n",
              "  </style>\n",
              "\n",
              "      <script>\n",
              "        const buttonEl =\n",
              "          document.querySelector('#df-d165bef2-f703-48c1-9ded-3f14f8dadb59 button.colab-df-convert');\n",
              "        buttonEl.style.display =\n",
              "          google.colab.kernel.accessAllowed ? 'block' : 'none';\n",
              "\n",
              "        async function convertToInteractive(key) {\n",
              "          const element = document.querySelector('#df-d165bef2-f703-48c1-9ded-3f14f8dadb59');\n",
              "          const dataTable =\n",
              "            await google.colab.kernel.invokeFunction('convertToInteractive',\n",
              "                                                     [key], {});\n",
              "          if (!dataTable) return;\n",
              "\n",
              "          const docLinkHtml = 'Like what you see? Visit the ' +\n",
              "            '<a target=\"_blank\" href=https://colab.research.google.com/notebooks/data_table.ipynb>data table notebook</a>'\n",
              "            + ' to learn more about interactive tables.';\n",
              "          element.innerHTML = '';\n",
              "          dataTable['output_type'] = 'display_data';\n",
              "          await google.colab.output.renderOutput(dataTable, element);\n",
              "          const docLink = document.createElement('div');\n",
              "          docLink.innerHTML = docLinkHtml;\n",
              "          element.appendChild(docLink);\n",
              "        }\n",
              "      </script>\n",
              "    </div>\n",
              "  </div>\n",
              "  "
            ],
            "text/plain": [
              "             PG_ACRA_1  PG_ACRA_2  PG_ACRA_3  ...  PG_ACRA_9  PG_ACRA_10  PG_ACRA_11\n",
              "ID_RES_ACRA                                   ...                                   \n",
              "1                    4          2          4  ...          4           2           2\n",
              "2                    2          3          2  ...          3           2           2\n",
              "3                    2          2          2  ...          3           2           2\n",
              "4                    1          1          2  ...          2           1           1\n",
              "5                    3          2          2  ...          1           2           1\n",
              "...                ...        ...        ...  ...        ...         ...         ...\n",
              "135                  4          4          3  ...          4           3           3\n",
              "136                  2          2          2  ...          2           3           1\n",
              "137                  2          2          2  ...          2           2           2\n",
              "138                  2          2          2  ...          3           3           2\n",
              "139                  4          2          4  ...          2           3           1\n",
              "\n",
              "[139 rows x 11 columns]"
            ]
          },
          "metadata": {},
          "execution_count": 70
        }
      ]
    },
    {
      "cell_type": "code",
      "source": [
        "#Se crea la nueva variebñe puntaje EADQ\n",
        "cambio_EADQ['puntaje_EADQ']= cambio_EADQ.sum(axis=1)\n",
        "cambio_EADQ"
      ],
      "metadata": {
        "colab": {
          "base_uri": "https://localhost:8080/",
          "height": 516
        },
        "id": "bM1gztzflAxu",
        "outputId": "6d9c3607-ca3a-4bbb-f299-d71fe3fb1757"
      },
      "execution_count": 71,
      "outputs": [
        {
          "output_type": "execute_result",
          "data": {
            "text/html": [
              "\n",
              "  <div id=\"df-f3d68ab6-aa9b-4ff1-94c5-98fae89156a7\">\n",
              "    <div class=\"colab-df-container\">\n",
              "      <div>\n",
              "<style scoped>\n",
              "    .dataframe tbody tr th:only-of-type {\n",
              "        vertical-align: middle;\n",
              "    }\n",
              "\n",
              "    .dataframe tbody tr th {\n",
              "        vertical-align: top;\n",
              "    }\n",
              "\n",
              "    .dataframe thead th {\n",
              "        text-align: right;\n",
              "    }\n",
              "</style>\n",
              "<table border=\"1\" class=\"dataframe\">\n",
              "  <thead>\n",
              "    <tr style=\"text-align: right;\">\n",
              "      <th></th>\n",
              "      <th>PG_ACRA_1</th>\n",
              "      <th>PG_ACRA_2</th>\n",
              "      <th>PG_ACRA_3</th>\n",
              "      <th>PG_ACRA_4</th>\n",
              "      <th>PG_ACRA_5</th>\n",
              "      <th>PG_ACRA_6</th>\n",
              "      <th>PG_ACRA_7</th>\n",
              "      <th>PG_ACRA_8</th>\n",
              "      <th>PG_ACRA_9</th>\n",
              "      <th>PG_ACRA_10</th>\n",
              "      <th>PG_ACRA_11</th>\n",
              "      <th>puntaje_EADQ</th>\n",
              "    </tr>\n",
              "    <tr>\n",
              "      <th>ID_RES_ACRA</th>\n",
              "      <th></th>\n",
              "      <th></th>\n",
              "      <th></th>\n",
              "      <th></th>\n",
              "      <th></th>\n",
              "      <th></th>\n",
              "      <th></th>\n",
              "      <th></th>\n",
              "      <th></th>\n",
              "      <th></th>\n",
              "      <th></th>\n",
              "      <th></th>\n",
              "    </tr>\n",
              "  </thead>\n",
              "  <tbody>\n",
              "    <tr>\n",
              "      <th>1</th>\n",
              "      <td>4</td>\n",
              "      <td>2</td>\n",
              "      <td>4</td>\n",
              "      <td>4</td>\n",
              "      <td>4</td>\n",
              "      <td>4</td>\n",
              "      <td>4</td>\n",
              "      <td>4</td>\n",
              "      <td>4</td>\n",
              "      <td>2</td>\n",
              "      <td>2</td>\n",
              "      <td>38</td>\n",
              "    </tr>\n",
              "    <tr>\n",
              "      <th>2</th>\n",
              "      <td>2</td>\n",
              "      <td>3</td>\n",
              "      <td>2</td>\n",
              "      <td>2</td>\n",
              "      <td>3</td>\n",
              "      <td>2</td>\n",
              "      <td>2</td>\n",
              "      <td>3</td>\n",
              "      <td>3</td>\n",
              "      <td>2</td>\n",
              "      <td>2</td>\n",
              "      <td>26</td>\n",
              "    </tr>\n",
              "    <tr>\n",
              "      <th>3</th>\n",
              "      <td>2</td>\n",
              "      <td>2</td>\n",
              "      <td>2</td>\n",
              "      <td>2</td>\n",
              "      <td>2</td>\n",
              "      <td>2</td>\n",
              "      <td>2</td>\n",
              "      <td>2</td>\n",
              "      <td>3</td>\n",
              "      <td>2</td>\n",
              "      <td>2</td>\n",
              "      <td>23</td>\n",
              "    </tr>\n",
              "    <tr>\n",
              "      <th>4</th>\n",
              "      <td>1</td>\n",
              "      <td>1</td>\n",
              "      <td>2</td>\n",
              "      <td>1</td>\n",
              "      <td>1</td>\n",
              "      <td>2</td>\n",
              "      <td>1</td>\n",
              "      <td>1</td>\n",
              "      <td>2</td>\n",
              "      <td>1</td>\n",
              "      <td>1</td>\n",
              "      <td>14</td>\n",
              "    </tr>\n",
              "    <tr>\n",
              "      <th>5</th>\n",
              "      <td>3</td>\n",
              "      <td>2</td>\n",
              "      <td>2</td>\n",
              "      <td>2</td>\n",
              "      <td>1</td>\n",
              "      <td>2</td>\n",
              "      <td>2</td>\n",
              "      <td>2</td>\n",
              "      <td>1</td>\n",
              "      <td>2</td>\n",
              "      <td>1</td>\n",
              "      <td>20</td>\n",
              "    </tr>\n",
              "    <tr>\n",
              "      <th>...</th>\n",
              "      <td>...</td>\n",
              "      <td>...</td>\n",
              "      <td>...</td>\n",
              "      <td>...</td>\n",
              "      <td>...</td>\n",
              "      <td>...</td>\n",
              "      <td>...</td>\n",
              "      <td>...</td>\n",
              "      <td>...</td>\n",
              "      <td>...</td>\n",
              "      <td>...</td>\n",
              "      <td>...</td>\n",
              "    </tr>\n",
              "    <tr>\n",
              "      <th>135</th>\n",
              "      <td>4</td>\n",
              "      <td>4</td>\n",
              "      <td>3</td>\n",
              "      <td>3</td>\n",
              "      <td>3</td>\n",
              "      <td>3</td>\n",
              "      <td>2</td>\n",
              "      <td>2</td>\n",
              "      <td>4</td>\n",
              "      <td>3</td>\n",
              "      <td>3</td>\n",
              "      <td>34</td>\n",
              "    </tr>\n",
              "    <tr>\n",
              "      <th>136</th>\n",
              "      <td>2</td>\n",
              "      <td>2</td>\n",
              "      <td>2</td>\n",
              "      <td>1</td>\n",
              "      <td>2</td>\n",
              "      <td>1</td>\n",
              "      <td>2</td>\n",
              "      <td>3</td>\n",
              "      <td>2</td>\n",
              "      <td>3</td>\n",
              "      <td>1</td>\n",
              "      <td>21</td>\n",
              "    </tr>\n",
              "    <tr>\n",
              "      <th>137</th>\n",
              "      <td>2</td>\n",
              "      <td>2</td>\n",
              "      <td>2</td>\n",
              "      <td>2</td>\n",
              "      <td>2</td>\n",
              "      <td>2</td>\n",
              "      <td>2</td>\n",
              "      <td>2</td>\n",
              "      <td>2</td>\n",
              "      <td>2</td>\n",
              "      <td>2</td>\n",
              "      <td>22</td>\n",
              "    </tr>\n",
              "    <tr>\n",
              "      <th>138</th>\n",
              "      <td>2</td>\n",
              "      <td>2</td>\n",
              "      <td>2</td>\n",
              "      <td>2</td>\n",
              "      <td>2</td>\n",
              "      <td>2</td>\n",
              "      <td>3</td>\n",
              "      <td>3</td>\n",
              "      <td>3</td>\n",
              "      <td>3</td>\n",
              "      <td>2</td>\n",
              "      <td>26</td>\n",
              "    </tr>\n",
              "    <tr>\n",
              "      <th>139</th>\n",
              "      <td>4</td>\n",
              "      <td>2</td>\n",
              "      <td>4</td>\n",
              "      <td>4</td>\n",
              "      <td>3</td>\n",
              "      <td>3</td>\n",
              "      <td>4</td>\n",
              "      <td>2</td>\n",
              "      <td>2</td>\n",
              "      <td>3</td>\n",
              "      <td>1</td>\n",
              "      <td>32</td>\n",
              "    </tr>\n",
              "  </tbody>\n",
              "</table>\n",
              "<p>139 rows × 12 columns</p>\n",
              "</div>\n",
              "      <button class=\"colab-df-convert\" onclick=\"convertToInteractive('df-f3d68ab6-aa9b-4ff1-94c5-98fae89156a7')\"\n",
              "              title=\"Convert this dataframe to an interactive table.\"\n",
              "              style=\"display:none;\">\n",
              "        \n",
              "  <svg xmlns=\"http://www.w3.org/2000/svg\" height=\"24px\"viewBox=\"0 0 24 24\"\n",
              "       width=\"24px\">\n",
              "    <path d=\"M0 0h24v24H0V0z\" fill=\"none\"/>\n",
              "    <path d=\"M18.56 5.44l.94 2.06.94-2.06 2.06-.94-2.06-.94-.94-2.06-.94 2.06-2.06.94zm-11 1L8.5 8.5l.94-2.06 2.06-.94-2.06-.94L8.5 2.5l-.94 2.06-2.06.94zm10 10l.94 2.06.94-2.06 2.06-.94-2.06-.94-.94-2.06-.94 2.06-2.06.94z\"/><path d=\"M17.41 7.96l-1.37-1.37c-.4-.4-.92-.59-1.43-.59-.52 0-1.04.2-1.43.59L10.3 9.45l-7.72 7.72c-.78.78-.78 2.05 0 2.83L4 21.41c.39.39.9.59 1.41.59.51 0 1.02-.2 1.41-.59l7.78-7.78 2.81-2.81c.8-.78.8-2.07 0-2.86zM5.41 20L4 18.59l7.72-7.72 1.47 1.35L5.41 20z\"/>\n",
              "  </svg>\n",
              "      </button>\n",
              "      \n",
              "  <style>\n",
              "    .colab-df-container {\n",
              "      display:flex;\n",
              "      flex-wrap:wrap;\n",
              "      gap: 12px;\n",
              "    }\n",
              "\n",
              "    .colab-df-convert {\n",
              "      background-color: #E8F0FE;\n",
              "      border: none;\n",
              "      border-radius: 50%;\n",
              "      cursor: pointer;\n",
              "      display: none;\n",
              "      fill: #1967D2;\n",
              "      height: 32px;\n",
              "      padding: 0 0 0 0;\n",
              "      width: 32px;\n",
              "    }\n",
              "\n",
              "    .colab-df-convert:hover {\n",
              "      background-color: #E2EBFA;\n",
              "      box-shadow: 0px 1px 2px rgba(60, 64, 67, 0.3), 0px 1px 3px 1px rgba(60, 64, 67, 0.15);\n",
              "      fill: #174EA6;\n",
              "    }\n",
              "\n",
              "    [theme=dark] .colab-df-convert {\n",
              "      background-color: #3B4455;\n",
              "      fill: #D2E3FC;\n",
              "    }\n",
              "\n",
              "    [theme=dark] .colab-df-convert:hover {\n",
              "      background-color: #434B5C;\n",
              "      box-shadow: 0px 1px 3px 1px rgba(0, 0, 0, 0.15);\n",
              "      filter: drop-shadow(0px 1px 2px rgba(0, 0, 0, 0.3));\n",
              "      fill: #FFFFFF;\n",
              "    }\n",
              "  </style>\n",
              "\n",
              "      <script>\n",
              "        const buttonEl =\n",
              "          document.querySelector('#df-f3d68ab6-aa9b-4ff1-94c5-98fae89156a7 button.colab-df-convert');\n",
              "        buttonEl.style.display =\n",
              "          google.colab.kernel.accessAllowed ? 'block' : 'none';\n",
              "\n",
              "        async function convertToInteractive(key) {\n",
              "          const element = document.querySelector('#df-f3d68ab6-aa9b-4ff1-94c5-98fae89156a7');\n",
              "          const dataTable =\n",
              "            await google.colab.kernel.invokeFunction('convertToInteractive',\n",
              "                                                     [key], {});\n",
              "          if (!dataTable) return;\n",
              "\n",
              "          const docLinkHtml = 'Like what you see? Visit the ' +\n",
              "            '<a target=\"_blank\" href=https://colab.research.google.com/notebooks/data_table.ipynb>data table notebook</a>'\n",
              "            + ' to learn more about interactive tables.';\n",
              "          element.innerHTML = '';\n",
              "          dataTable['output_type'] = 'display_data';\n",
              "          await google.colab.output.renderOutput(dataTable, element);\n",
              "          const docLink = document.createElement('div');\n",
              "          docLink.innerHTML = docLinkHtml;\n",
              "          element.appendChild(docLink);\n",
              "        }\n",
              "      </script>\n",
              "    </div>\n",
              "  </div>\n",
              "  "
            ],
            "text/plain": [
              "             PG_ACRA_1  PG_ACRA_2  ...  PG_ACRA_11  puntaje_EADQ\n",
              "ID_RES_ACRA                        ...                          \n",
              "1                    4          2  ...           2            38\n",
              "2                    2          3  ...           2            26\n",
              "3                    2          2  ...           2            23\n",
              "4                    1          1  ...           1            14\n",
              "5                    3          2  ...           1            20\n",
              "...                ...        ...  ...         ...           ...\n",
              "135                  4          4  ...           3            34\n",
              "136                  2          2  ...           1            21\n",
              "137                  2          2  ...           2            22\n",
              "138                  2          2  ...           2            26\n",
              "139                  4          2  ...           1            32\n",
              "\n",
              "[139 rows x 12 columns]"
            ]
          },
          "metadata": {},
          "execution_count": 71
        }
      ]
    },
    {
      "cell_type": "code",
      "source": [
        "cambio_EADQ['puntaje_EADQ'].describe()"
      ],
      "metadata": {
        "colab": {
          "base_uri": "https://localhost:8080/"
        },
        "id": "T5AFat37l299",
        "outputId": "9978f831-ef8f-42c4-ebc3-690d2c7ff1d7"
      },
      "execution_count": 73,
      "outputs": [
        {
          "output_type": "execute_result",
          "data": {
            "text/plain": [
              "count    139.000000\n",
              "mean      27.223022\n",
              "std        5.244795\n",
              "min       14.000000\n",
              "25%       23.000000\n",
              "50%       26.000000\n",
              "75%       31.000000\n",
              "max       40.000000\n",
              "Name: puntaje_EADQ, dtype: float64"
            ]
          },
          "metadata": {},
          "execution_count": 73
        }
      ]
    },
    {
      "cell_type": "code",
      "source": [
        "sb.histplot(data=cambio_EADQ, x = 'puntaje_EADQ', kde=True)"
      ],
      "metadata": {
        "colab": {
          "base_uri": "https://localhost:8080/",
          "height": 298
        },
        "id": "CcJ_bNm8mkWu",
        "outputId": "9dd90fa5-26c5-4729-ee83-4043ad3f7dad"
      },
      "execution_count": 76,
      "outputs": [
        {
          "output_type": "execute_result",
          "data": {
            "text/plain": [
              "<matplotlib.axes._subplots.AxesSubplot at 0x7fb547981e90>"
            ]
          },
          "metadata": {},
          "execution_count": 76
        },
        {
          "output_type": "display_data",
          "data": {
            "image/png": "[encoded data removed]",
            "text/plain": [
              "<Figure size 432x288 with 1 Axes>"
            ]
          },
          "metadata": {
            "needs_background": "light"
          }
        }
      ]
    },
    {
      "cell_type": "code",
      "source": [
        "puntaje_eadq=cambio_EADQ['puntaje_EADQ'].value_counts()\n",
        "print(\"Puntaje Cantidad\")\n",
        "print(puntaje_eadq)"
      ],
      "metadata": {
        "colab": {
          "base_uri": "https://localhost:8080/"
        },
        "id": "FAt6dEY3nBXI",
        "outputId": "a90024ad-3c6b-4952-bffc-1b911508a1f3"
      },
      "execution_count": 109,
      "outputs": [
        {
          "output_type": "stream",
          "name": "stdout",
          "text": [
            "Puntaje Cantidad\n",
            "26    15\n",
            "25    14\n",
            "30    10\n",
            "21     9\n",
            "32     8\n",
            "23     8\n",
            "29     8\n",
            "22     8\n",
            "28     8\n",
            "27     7\n",
            "35     6\n",
            "33     6\n",
            "24     5\n",
            "20     5\n",
            "34     4\n",
            "36     4\n",
            "31     3\n",
            "18     2\n",
            "38     2\n",
            "16     2\n",
            "19     1\n",
            "39     1\n",
            "14     1\n",
            "40     1\n",
            "37     1\n",
            "Name: puntaje_EADQ, dtype: int64\n"
          ]
        }
      ]
    },
    {
      "cell_type": "code",
      "source": [
        "#Une los dataframe info y cambio_EADQ\n",
        "EADQ = pd.concat([info, cambio_EADQ], axis=1)\n",
        "EADQ"
      ],
      "metadata": {
        "colab": {
          "base_uri": "https://localhost:8080/",
          "height": 610
        },
        "id": "SOImtR_nsCtG",
        "outputId": "427cd43f-0243-4ec6-fbe7-fa7d9f38ff88"
      },
      "execution_count": 113,
      "outputs": [
        {
          "output_type": "execute_result",
          "data": {
            "text/html": [
              "\n",
              "  <div id=\"df-15493616-24f5-437e-8811-6b73580c7e13\">\n",
              "    <div class=\"colab-df-container\">\n",
              "      <div>\n",
              "<style scoped>\n",
              "    .dataframe tbody tr th:only-of-type {\n",
              "        vertical-align: middle;\n",
              "    }\n",
              "\n",
              "    .dataframe tbody tr th {\n",
              "        vertical-align: top;\n",
              "    }\n",
              "\n",
              "    .dataframe thead th {\n",
              "        text-align: right;\n",
              "    }\n",
              "</style>\n",
              "<table border=\"1\" class=\"dataframe\">\n",
              "  <thead>\n",
              "    <tr style=\"text-align: right;\">\n",
              "      <th></th>\n",
              "      <th>CONDICION_ESTUDIANTE</th>\n",
              "      <th>EDAD</th>\n",
              "      <th>DISTRITO_VIVE</th>\n",
              "      <th>SEXO</th>\n",
              "      <th>PG_ACRA_1</th>\n",
              "      <th>PG_ACRA_2</th>\n",
              "      <th>PG_ACRA_3</th>\n",
              "      <th>PG_ACRA_4</th>\n",
              "      <th>PG_ACRA_5</th>\n",
              "      <th>PG_ACRA_6</th>\n",
              "      <th>PG_ACRA_7</th>\n",
              "      <th>PG_ACRA_8</th>\n",
              "      <th>PG_ACRA_9</th>\n",
              "      <th>PG_ACRA_10</th>\n",
              "      <th>PG_ACRA_11</th>\n",
              "      <th>puntaje_EADQ</th>\n",
              "      <th>desarrollo</th>\n",
              "    </tr>\n",
              "    <tr>\n",
              "      <th>ID_RES_ACRA</th>\n",
              "      <th></th>\n",
              "      <th></th>\n",
              "      <th></th>\n",
              "      <th></th>\n",
              "      <th></th>\n",
              "      <th></th>\n",
              "      <th></th>\n",
              "      <th></th>\n",
              "      <th></th>\n",
              "      <th></th>\n",
              "      <th></th>\n",
              "      <th></th>\n",
              "      <th></th>\n",
              "      <th></th>\n",
              "      <th></th>\n",
              "      <th></th>\n",
              "      <th></th>\n",
              "    </tr>\n",
              "  </thead>\n",
              "  <tbody>\n",
              "    <tr>\n",
              "      <th>1</th>\n",
              "      <td>SOLO ESTUDIA</td>\n",
              "      <td>23</td>\n",
              "      <td>SAN JUAN DE LURIGANCHO</td>\n",
              "      <td>MASCULINO</td>\n",
              "      <td>4</td>\n",
              "      <td>2</td>\n",
              "      <td>4</td>\n",
              "      <td>4</td>\n",
              "      <td>4</td>\n",
              "      <td>4</td>\n",
              "      <td>4</td>\n",
              "      <td>4</td>\n",
              "      <td>4</td>\n",
              "      <td>2</td>\n",
              "      <td>2</td>\n",
              "      <td>38</td>\n",
              "      <td>2</td>\n",
              "    </tr>\n",
              "    <tr>\n",
              "      <th>2</th>\n",
              "      <td>SOLO ESTUDIA</td>\n",
              "      <td>24</td>\n",
              "      <td>SANTA ANITA</td>\n",
              "      <td>FEMENINO</td>\n",
              "      <td>2</td>\n",
              "      <td>3</td>\n",
              "      <td>2</td>\n",
              "      <td>2</td>\n",
              "      <td>3</td>\n",
              "      <td>2</td>\n",
              "      <td>2</td>\n",
              "      <td>3</td>\n",
              "      <td>3</td>\n",
              "      <td>2</td>\n",
              "      <td>2</td>\n",
              "      <td>26</td>\n",
              "      <td>1</td>\n",
              "    </tr>\n",
              "    <tr>\n",
              "      <th>3</th>\n",
              "      <td>SOLO ESTUDIA</td>\n",
              "      <td>26</td>\n",
              "      <td>CHORRILLOS</td>\n",
              "      <td>MASCULINO</td>\n",
              "      <td>2</td>\n",
              "      <td>2</td>\n",
              "      <td>2</td>\n",
              "      <td>2</td>\n",
              "      <td>2</td>\n",
              "      <td>2</td>\n",
              "      <td>2</td>\n",
              "      <td>2</td>\n",
              "      <td>3</td>\n",
              "      <td>2</td>\n",
              "      <td>2</td>\n",
              "      <td>23</td>\n",
              "      <td>1</td>\n",
              "    </tr>\n",
              "    <tr>\n",
              "      <th>4</th>\n",
              "      <td>SOLO ESTUDIA</td>\n",
              "      <td>22</td>\n",
              "      <td>PUEBLO LIBRE</td>\n",
              "      <td>MASCULINO</td>\n",
              "      <td>1</td>\n",
              "      <td>1</td>\n",
              "      <td>2</td>\n",
              "      <td>1</td>\n",
              "      <td>1</td>\n",
              "      <td>2</td>\n",
              "      <td>1</td>\n",
              "      <td>1</td>\n",
              "      <td>2</td>\n",
              "      <td>1</td>\n",
              "      <td>1</td>\n",
              "      <td>14</td>\n",
              "      <td>0</td>\n",
              "    </tr>\n",
              "    <tr>\n",
              "      <th>5</th>\n",
              "      <td>SOLO ESTUDIA</td>\n",
              "      <td>22</td>\n",
              "      <td>CARABAYLLO</td>\n",
              "      <td>MASCULINO</td>\n",
              "      <td>3</td>\n",
              "      <td>2</td>\n",
              "      <td>2</td>\n",
              "      <td>2</td>\n",
              "      <td>1</td>\n",
              "      <td>2</td>\n",
              "      <td>2</td>\n",
              "      <td>2</td>\n",
              "      <td>1</td>\n",
              "      <td>2</td>\n",
              "      <td>1</td>\n",
              "      <td>20</td>\n",
              "      <td>0</td>\n",
              "    </tr>\n",
              "    <tr>\n",
              "      <th>...</th>\n",
              "      <td>...</td>\n",
              "      <td>...</td>\n",
              "      <td>...</td>\n",
              "      <td>...</td>\n",
              "      <td>...</td>\n",
              "      <td>...</td>\n",
              "      <td>...</td>\n",
              "      <td>...</td>\n",
              "      <td>...</td>\n",
              "      <td>...</td>\n",
              "      <td>...</td>\n",
              "      <td>...</td>\n",
              "      <td>...</td>\n",
              "      <td>...</td>\n",
              "      <td>...</td>\n",
              "      <td>...</td>\n",
              "      <td>...</td>\n",
              "    </tr>\n",
              "    <tr>\n",
              "      <th>135</th>\n",
              "      <td>TRABAJA Y ESTUDIA</td>\n",
              "      <td>22</td>\n",
              "      <td>CALLAO</td>\n",
              "      <td>MASCULINO</td>\n",
              "      <td>4</td>\n",
              "      <td>4</td>\n",
              "      <td>3</td>\n",
              "      <td>3</td>\n",
              "      <td>3</td>\n",
              "      <td>3</td>\n",
              "      <td>2</td>\n",
              "      <td>2</td>\n",
              "      <td>4</td>\n",
              "      <td>3</td>\n",
              "      <td>3</td>\n",
              "      <td>34</td>\n",
              "      <td>2</td>\n",
              "    </tr>\n",
              "    <tr>\n",
              "      <th>136</th>\n",
              "      <td>SOLO ESTUDIA</td>\n",
              "      <td>22</td>\n",
              "      <td>SAN JUAN DE LURIGANCHO</td>\n",
              "      <td>MASCULINO</td>\n",
              "      <td>2</td>\n",
              "      <td>2</td>\n",
              "      <td>2</td>\n",
              "      <td>1</td>\n",
              "      <td>2</td>\n",
              "      <td>1</td>\n",
              "      <td>2</td>\n",
              "      <td>3</td>\n",
              "      <td>2</td>\n",
              "      <td>3</td>\n",
              "      <td>1</td>\n",
              "      <td>21</td>\n",
              "      <td>0</td>\n",
              "    </tr>\n",
              "    <tr>\n",
              "      <th>137</th>\n",
              "      <td>SOLO ESTUDIA</td>\n",
              "      <td>18</td>\n",
              "      <td>CARABAYLLO</td>\n",
              "      <td>FEMENINO</td>\n",
              "      <td>2</td>\n",
              "      <td>2</td>\n",
              "      <td>2</td>\n",
              "      <td>2</td>\n",
              "      <td>2</td>\n",
              "      <td>2</td>\n",
              "      <td>2</td>\n",
              "      <td>2</td>\n",
              "      <td>2</td>\n",
              "      <td>2</td>\n",
              "      <td>2</td>\n",
              "      <td>22</td>\n",
              "      <td>0</td>\n",
              "    </tr>\n",
              "    <tr>\n",
              "      <th>138</th>\n",
              "      <td>SOLO ESTUDIA</td>\n",
              "      <td>22</td>\n",
              "      <td>VMT</td>\n",
              "      <td>FEMENINO</td>\n",
              "      <td>2</td>\n",
              "      <td>2</td>\n",
              "      <td>2</td>\n",
              "      <td>2</td>\n",
              "      <td>2</td>\n",
              "      <td>2</td>\n",
              "      <td>3</td>\n",
              "      <td>3</td>\n",
              "      <td>3</td>\n",
              "      <td>3</td>\n",
              "      <td>2</td>\n",
              "      <td>26</td>\n",
              "      <td>1</td>\n",
              "    </tr>\n",
              "    <tr>\n",
              "      <th>139</th>\n",
              "      <td>SOLO ESTUDIA</td>\n",
              "      <td>20</td>\n",
              "      <td>SAN JUAN DE LURIGANCHO</td>\n",
              "      <td>FEMENINO</td>\n",
              "      <td>4</td>\n",
              "      <td>2</td>\n",
              "      <td>4</td>\n",
              "      <td>4</td>\n",
              "      <td>3</td>\n",
              "      <td>3</td>\n",
              "      <td>4</td>\n",
              "      <td>2</td>\n",
              "      <td>2</td>\n",
              "      <td>3</td>\n",
              "      <td>1</td>\n",
              "      <td>32</td>\n",
              "      <td>2</td>\n",
              "    </tr>\n",
              "  </tbody>\n",
              "</table>\n",
              "<p>139 rows × 17 columns</p>\n",
              "</div>\n",
              "      <button class=\"colab-df-convert\" onclick=\"convertToInteractive('df-15493616-24f5-437e-8811-6b73580c7e13')\"\n",
              "              title=\"Convert this dataframe to an interactive table.\"\n",
              "              style=\"display:none;\">\n",
              "        \n",
              "  <svg xmlns=\"http://www.w3.org/2000/svg\" height=\"24px\"viewBox=\"0 0 24 24\"\n",
              "       width=\"24px\">\n",
              "    <path d=\"M0 0h24v24H0V0z\" fill=\"none\"/>\n",
              "    <path d=\"M18.56 5.44l.94 2.06.94-2.06 2.06-.94-2.06-.94-.94-2.06-.94 2.06-2.06.94zm-11 1L8.5 8.5l.94-2.06 2.06-.94-2.06-.94L8.5 2.5l-.94 2.06-2.06.94zm10 10l.94 2.06.94-2.06 2.06-.94-2.06-.94-.94-2.06-.94 2.06-2.06.94z\"/><path d=\"M17.41 7.96l-1.37-1.37c-.4-.4-.92-.59-1.43-.59-.52 0-1.04.2-1.43.59L10.3 9.45l-7.72 7.72c-.78.78-.78 2.05 0 2.83L4 21.41c.39.39.9.59 1.41.59.51 0 1.02-.2 1.41-.59l7.78-7.78 2.81-2.81c.8-.78.8-2.07 0-2.86zM5.41 20L4 18.59l7.72-7.72 1.47 1.35L5.41 20z\"/>\n",
              "  </svg>\n",
              "      </button>\n",
              "      \n",
              "  <style>\n",
              "    .colab-df-container {\n",
              "      display:flex;\n",
              "      flex-wrap:wrap;\n",
              "      gap: 12px;\n",
              "    }\n",
              "\n",
              "    .colab-df-convert {\n",
              "      background-color: #E8F0FE;\n",
              "      border: none;\n",
              "      border-radius: 50%;\n",
              "      cursor: pointer;\n",
              "      display: none;\n",
              "      fill: #1967D2;\n",
              "      height: 32px;\n",
              "      padding: 0 0 0 0;\n",
              "      width: 32px;\n",
              "    }\n",
              "\n",
              "    .colab-df-convert:hover {\n",
              "      background-color: #E2EBFA;\n",
              "      box-shadow: 0px 1px 2px rgba(60, 64, 67, 0.3), 0px 1px 3px 1px rgba(60, 64, 67, 0.15);\n",
              "      fill: #174EA6;\n",
              "    }\n",
              "\n",
              "    [theme=dark] .colab-df-convert {\n",
              "      background-color: #3B4455;\n",
              "      fill: #D2E3FC;\n",
              "    }\n",
              "\n",
              "    [theme=dark] .colab-df-convert:hover {\n",
              "      background-color: #434B5C;\n",
              "      box-shadow: 0px 1px 3px 1px rgba(0, 0, 0, 0.15);\n",
              "      filter: drop-shadow(0px 1px 2px rgba(0, 0, 0, 0.3));\n",
              "      fill: #FFFFFF;\n",
              "    }\n",
              "  </style>\n",
              "\n",
              "      <script>\n",
              "        const buttonEl =\n",
              "          document.querySelector('#df-15493616-24f5-437e-8811-6b73580c7e13 button.colab-df-convert');\n",
              "        buttonEl.style.display =\n",
              "          google.colab.kernel.accessAllowed ? 'block' : 'none';\n",
              "\n",
              "        async function convertToInteractive(key) {\n",
              "          const element = document.querySelector('#df-15493616-24f5-437e-8811-6b73580c7e13');\n",
              "          const dataTable =\n",
              "            await google.colab.kernel.invokeFunction('convertToInteractive',\n",
              "                                                     [key], {});\n",
              "          if (!dataTable) return;\n",
              "\n",
              "          const docLinkHtml = 'Like what you see? Visit the ' +\n",
              "            '<a target=\"_blank\" href=https://colab.research.google.com/notebooks/data_table.ipynb>data table notebook</a>'\n",
              "            + ' to learn more about interactive tables.';\n",
              "          element.innerHTML = '';\n",
              "          dataTable['output_type'] = 'display_data';\n",
              "          await google.colab.output.renderOutput(dataTable, element);\n",
              "          const docLink = document.createElement('div');\n",
              "          docLink.innerHTML = docLinkHtml;\n",
              "          element.appendChild(docLink);\n",
              "        }\n",
              "      </script>\n",
              "    </div>\n",
              "  </div>\n",
              "  "
            ],
            "text/plain": [
              "            CONDICION_ESTUDIANTE  EDAD  ... puntaje_EADQ desarrollo\n",
              "ID_RES_ACRA                             ...                        \n",
              "1                   SOLO ESTUDIA    23  ...           38          2\n",
              "2                   SOLO ESTUDIA    24  ...           26          1\n",
              "3                   SOLO ESTUDIA    26  ...           23          1\n",
              "4                   SOLO ESTUDIA    22  ...           14          0\n",
              "5                   SOLO ESTUDIA    22  ...           20          0\n",
              "...                          ...   ...  ...          ...        ...\n",
              "135            TRABAJA Y ESTUDIA    22  ...           34          2\n",
              "136                 SOLO ESTUDIA    22  ...           21          0\n",
              "137                 SOLO ESTUDIA    18  ...           22          0\n",
              "138                 SOLO ESTUDIA    22  ...           26          1\n",
              "139                 SOLO ESTUDIA    20  ...           32          2\n",
              "\n",
              "[139 rows x 17 columns]"
            ]
          },
          "metadata": {},
          "execution_count": 113
        }
      ]
    },
    {
      "cell_type": "markdown",
      "source": [
        "Valores Faltantes(Ninguno)"
      ],
      "metadata": {
        "id": "eE8t0AdVwfK3"
      }
    },
    {
      "cell_type": "code",
      "source": [
        "EADQ.isnull().sum()"
      ],
      "metadata": {
        "colab": {
          "base_uri": "https://localhost:8080/"
        },
        "id": "UATOGGJYwY9F",
        "outputId": "c8c1cc21-ebda-412c-cc7b-f223aefa6dae"
      },
      "execution_count": 101,
      "outputs": [
        {
          "output_type": "execute_result",
          "data": {
            "text/plain": [
              "CONDICION_ESTUDIANTE    0\n",
              "EDAD                    0\n",
              "DISTRITO_VIVE           0\n",
              "SEXO                    0\n",
              "PG_ACRA_1               0\n",
              "PG_ACRA_2               0\n",
              "PG_ACRA_3               0\n",
              "PG_ACRA_4               0\n",
              "PG_ACRA_5               0\n",
              "PG_ACRA_6               0\n",
              "PG_ACRA_7               0\n",
              "PG_ACRA_8               0\n",
              "PG_ACRA_9               0\n",
              "PG_ACRA_10              0\n",
              "PG_ACRA_11              0\n",
              "puntaje_EADQ            0\n",
              "dtype: int64"
            ]
          },
          "metadata": {},
          "execution_count": 101
        }
      ]
    },
    {
      "cell_type": "markdown",
      "source": [
        "Inspección visual de la nueva variable puntaje_EADQ\n"
      ],
      "metadata": {
        "id": "MdbkBNMpwJBX"
      }
    },
    {
      "cell_type": "code",
      "source": [
        "sb.scatterplot(data = EADQ, x = 'puntaje_EADQ',y='EDAD',hue=\"SEXO\")\n"
      ],
      "metadata": {
        "colab": {
          "base_uri": "https://localhost:8080/",
          "height": 298
        },
        "id": "2SaZto2WowQo",
        "outputId": "5280d628-45bd-4ae2-9e13-44db91d84c63"
      },
      "execution_count": 87,
      "outputs": [
        {
          "output_type": "execute_result",
          "data": {
            "text/plain": [
              "<matplotlib.axes._subplots.AxesSubplot at 0x7fb5476d6c90>"
            ]
          },
          "metadata": {},
          "execution_count": 87
        },
        {
          "output_type": "display_data",
          "data": {
            "image/png": "[encoded data removed]",
            "text/plain": [
              "<Figure size 432x288 with 1 Axes>"
            ]
          },
          "metadata": {
            "needs_background": "light"
          }
        }
      ]
    },
    {
      "cell_type": "code",
      "source": [
        "sb.relplot(data=EADQ, x=\"puntaje_EADQ\", y=\"EDAD\",hue=\"SEXO\",col=\"CONDICION_ESTUDIANTE\")\n"
      ],
      "metadata": {
        "colab": {
          "base_uri": "https://localhost:8080/",
          "height": 387
        },
        "id": "khN9NpdhtIV_",
        "outputId": "0b4c6a13-50db-49a8-9921-d7131d2cfb21"
      },
      "execution_count": 106,
      "outputs": [
        {
          "output_type": "execute_result",
          "data": {
            "text/plain": [
              "<seaborn.axisgrid.FacetGrid at 0x7fb5467eb7d0>"
            ]
          },
          "metadata": {},
          "execution_count": 106
        },
        {
          "output_type": "display_data",
          "data": {
            "image/png": "[encoded data removed]",
            "text/plain": [
              "<Figure size 1175.62x360 with 3 Axes>"
            ]
          },
          "metadata": {
            "needs_background": "light"
          }
        }
      ]
    },
    {
      "cell_type": "code",
      "source": [
        "cambio_EADQ"
      ],
      "metadata": {
        "colab": {
          "base_uri": "https://localhost:8080/",
          "height": 516
        },
        "id": "RzzFSlSPBn3o",
        "outputId": "8e52d28b-02cb-456b-da53-62b72719b6e1"
      },
      "execution_count": 107,
      "outputs": [
        {
          "output_type": "execute_result",
          "data": {
            "text/html": [
              "\n",
              "  <div id=\"df-8778bf61-f8a8-496e-a1fb-1837cc3cdd6d\">\n",
              "    <div class=\"colab-df-container\">\n",
              "      <div>\n",
              "<style scoped>\n",
              "    .dataframe tbody tr th:only-of-type {\n",
              "        vertical-align: middle;\n",
              "    }\n",
              "\n",
              "    .dataframe tbody tr th {\n",
              "        vertical-align: top;\n",
              "    }\n",
              "\n",
              "    .dataframe thead th {\n",
              "        text-align: right;\n",
              "    }\n",
              "</style>\n",
              "<table border=\"1\" class=\"dataframe\">\n",
              "  <thead>\n",
              "    <tr style=\"text-align: right;\">\n",
              "      <th></th>\n",
              "      <th>PG_ACRA_1</th>\n",
              "      <th>PG_ACRA_2</th>\n",
              "      <th>PG_ACRA_3</th>\n",
              "      <th>PG_ACRA_4</th>\n",
              "      <th>PG_ACRA_5</th>\n",
              "      <th>PG_ACRA_6</th>\n",
              "      <th>PG_ACRA_7</th>\n",
              "      <th>PG_ACRA_8</th>\n",
              "      <th>PG_ACRA_9</th>\n",
              "      <th>PG_ACRA_10</th>\n",
              "      <th>PG_ACRA_11</th>\n",
              "      <th>puntaje_EADQ</th>\n",
              "    </tr>\n",
              "    <tr>\n",
              "      <th>ID_RES_ACRA</th>\n",
              "      <th></th>\n",
              "      <th></th>\n",
              "      <th></th>\n",
              "      <th></th>\n",
              "      <th></th>\n",
              "      <th></th>\n",
              "      <th></th>\n",
              "      <th></th>\n",
              "      <th></th>\n",
              "      <th></th>\n",
              "      <th></th>\n",
              "      <th></th>\n",
              "    </tr>\n",
              "  </thead>\n",
              "  <tbody>\n",
              "    <tr>\n",
              "      <th>1</th>\n",
              "      <td>4</td>\n",
              "      <td>2</td>\n",
              "      <td>4</td>\n",
              "      <td>4</td>\n",
              "      <td>4</td>\n",
              "      <td>4</td>\n",
              "      <td>4</td>\n",
              "      <td>4</td>\n",
              "      <td>4</td>\n",
              "      <td>2</td>\n",
              "      <td>2</td>\n",
              "      <td>38</td>\n",
              "    </tr>\n",
              "    <tr>\n",
              "      <th>2</th>\n",
              "      <td>2</td>\n",
              "      <td>3</td>\n",
              "      <td>2</td>\n",
              "      <td>2</td>\n",
              "      <td>3</td>\n",
              "      <td>2</td>\n",
              "      <td>2</td>\n",
              "      <td>3</td>\n",
              "      <td>3</td>\n",
              "      <td>2</td>\n",
              "      <td>2</td>\n",
              "      <td>26</td>\n",
              "    </tr>\n",
              "    <tr>\n",
              "      <th>3</th>\n",
              "      <td>2</td>\n",
              "      <td>2</td>\n",
              "      <td>2</td>\n",
              "      <td>2</td>\n",
              "      <td>2</td>\n",
              "      <td>2</td>\n",
              "      <td>2</td>\n",
              "      <td>2</td>\n",
              "      <td>3</td>\n",
              "      <td>2</td>\n",
              "      <td>2</td>\n",
              "      <td>23</td>\n",
              "    </tr>\n",
              "    <tr>\n",
              "      <th>4</th>\n",
              "      <td>1</td>\n",
              "      <td>1</td>\n",
              "      <td>2</td>\n",
              "      <td>1</td>\n",
              "      <td>1</td>\n",
              "      <td>2</td>\n",
              "      <td>1</td>\n",
              "      <td>1</td>\n",
              "      <td>2</td>\n",
              "      <td>1</td>\n",
              "      <td>1</td>\n",
              "      <td>14</td>\n",
              "    </tr>\n",
              "    <tr>\n",
              "      <th>5</th>\n",
              "      <td>3</td>\n",
              "      <td>2</td>\n",
              "      <td>2</td>\n",
              "      <td>2</td>\n",
              "      <td>1</td>\n",
              "      <td>2</td>\n",
              "      <td>2</td>\n",
              "      <td>2</td>\n",
              "      <td>1</td>\n",
              "      <td>2</td>\n",
              "      <td>1</td>\n",
              "      <td>20</td>\n",
              "    </tr>\n",
              "    <tr>\n",
              "      <th>...</th>\n",
              "      <td>...</td>\n",
              "      <td>...</td>\n",
              "      <td>...</td>\n",
              "      <td>...</td>\n",
              "      <td>...</td>\n",
              "      <td>...</td>\n",
              "      <td>...</td>\n",
              "      <td>...</td>\n",
              "      <td>...</td>\n",
              "      <td>...</td>\n",
              "      <td>...</td>\n",
              "      <td>...</td>\n",
              "    </tr>\n",
              "    <tr>\n",
              "      <th>135</th>\n",
              "      <td>4</td>\n",
              "      <td>4</td>\n",
              "      <td>3</td>\n",
              "      <td>3</td>\n",
              "      <td>3</td>\n",
              "      <td>3</td>\n",
              "      <td>2</td>\n",
              "      <td>2</td>\n",
              "      <td>4</td>\n",
              "      <td>3</td>\n",
              "      <td>3</td>\n",
              "      <td>34</td>\n",
              "    </tr>\n",
              "    <tr>\n",
              "      <th>136</th>\n",
              "      <td>2</td>\n",
              "      <td>2</td>\n",
              "      <td>2</td>\n",
              "      <td>1</td>\n",
              "      <td>2</td>\n",
              "      <td>1</td>\n",
              "      <td>2</td>\n",
              "      <td>3</td>\n",
              "      <td>2</td>\n",
              "      <td>3</td>\n",
              "      <td>1</td>\n",
              "      <td>21</td>\n",
              "    </tr>\n",
              "    <tr>\n",
              "      <th>137</th>\n",
              "      <td>2</td>\n",
              "      <td>2</td>\n",
              "      <td>2</td>\n",
              "      <td>2</td>\n",
              "      <td>2</td>\n",
              "      <td>2</td>\n",
              "      <td>2</td>\n",
              "      <td>2</td>\n",
              "      <td>2</td>\n",
              "      <td>2</td>\n",
              "      <td>2</td>\n",
              "      <td>22</td>\n",
              "    </tr>\n",
              "    <tr>\n",
              "      <th>138</th>\n",
              "      <td>2</td>\n",
              "      <td>2</td>\n",
              "      <td>2</td>\n",
              "      <td>2</td>\n",
              "      <td>2</td>\n",
              "      <td>2</td>\n",
              "      <td>3</td>\n",
              "      <td>3</td>\n",
              "      <td>3</td>\n",
              "      <td>3</td>\n",
              "      <td>2</td>\n",
              "      <td>26</td>\n",
              "    </tr>\n",
              "    <tr>\n",
              "      <th>139</th>\n",
              "      <td>4</td>\n",
              "      <td>2</td>\n",
              "      <td>4</td>\n",
              "      <td>4</td>\n",
              "      <td>3</td>\n",
              "      <td>3</td>\n",
              "      <td>4</td>\n",
              "      <td>2</td>\n",
              "      <td>2</td>\n",
              "      <td>3</td>\n",
              "      <td>1</td>\n",
              "      <td>32</td>\n",
              "    </tr>\n",
              "  </tbody>\n",
              "</table>\n",
              "<p>139 rows × 12 columns</p>\n",
              "</div>\n",
              "      <button class=\"colab-df-convert\" onclick=\"convertToInteractive('df-8778bf61-f8a8-496e-a1fb-1837cc3cdd6d')\"\n",
              "              title=\"Convert this dataframe to an interactive table.\"\n",
              "              style=\"display:none;\">\n",
              "        \n",
              "  <svg xmlns=\"http://www.w3.org/2000/svg\" height=\"24px\"viewBox=\"0 0 24 24\"\n",
              "       width=\"24px\">\n",
              "    <path d=\"M0 0h24v24H0V0z\" fill=\"none\"/>\n",
              "    <path d=\"M18.56 5.44l.94 2.06.94-2.06 2.06-.94-2.06-.94-.94-2.06-.94 2.06-2.06.94zm-11 1L8.5 8.5l.94-2.06 2.06-.94-2.06-.94L8.5 2.5l-.94 2.06-2.06.94zm10 10l.94 2.06.94-2.06 2.06-.94-2.06-.94-.94-2.06-.94 2.06-2.06.94z\"/><path d=\"M17.41 7.96l-1.37-1.37c-.4-.4-.92-.59-1.43-.59-.52 0-1.04.2-1.43.59L10.3 9.45l-7.72 7.72c-.78.78-.78 2.05 0 2.83L4 21.41c.39.39.9.59 1.41.59.51 0 1.02-.2 1.41-.59l7.78-7.78 2.81-2.81c.8-.78.8-2.07 0-2.86zM5.41 20L4 18.59l7.72-7.72 1.47 1.35L5.41 20z\"/>\n",
              "  </svg>\n",
              "      </button>\n",
              "      \n",
              "  <style>\n",
              "    .colab-df-container {\n",
              "      display:flex;\n",
              "      flex-wrap:wrap;\n",
              "      gap: 12px;\n",
              "    }\n",
              "\n",
              "    .colab-df-convert {\n",
              "      background-color: #E8F0FE;\n",
              "      border: none;\n",
              "      border-radius: 50%;\n",
              "      cursor: pointer;\n",
              "      display: none;\n",
              "      fill: #1967D2;\n",
              "      height: 32px;\n",
              "      padding: 0 0 0 0;\n",
              "      width: 32px;\n",
              "    }\n",
              "\n",
              "    .colab-df-convert:hover {\n",
              "      background-color: #E2EBFA;\n",
              "      box-shadow: 0px 1px 2px rgba(60, 64, 67, 0.3), 0px 1px 3px 1px rgba(60, 64, 67, 0.15);\n",
              "      fill: #174EA6;\n",
              "    }\n",
              "\n",
              "    [theme=dark] .colab-df-convert {\n",
              "      background-color: #3B4455;\n",
              "      fill: #D2E3FC;\n",
              "    }\n",
              "\n",
              "    [theme=dark] .colab-df-convert:hover {\n",
              "      background-color: #434B5C;\n",
              "      box-shadow: 0px 1px 3px 1px rgba(0, 0, 0, 0.15);\n",
              "      filter: drop-shadow(0px 1px 2px rgba(0, 0, 0, 0.3));\n",
              "      fill: #FFFFFF;\n",
              "    }\n",
              "  </style>\n",
              "\n",
              "      <script>\n",
              "        const buttonEl =\n",
              "          document.querySelector('#df-8778bf61-f8a8-496e-a1fb-1837cc3cdd6d button.colab-df-convert');\n",
              "        buttonEl.style.display =\n",
              "          google.colab.kernel.accessAllowed ? 'block' : 'none';\n",
              "\n",
              "        async function convertToInteractive(key) {\n",
              "          const element = document.querySelector('#df-8778bf61-f8a8-496e-a1fb-1837cc3cdd6d');\n",
              "          const dataTable =\n",
              "            await google.colab.kernel.invokeFunction('convertToInteractive',\n",
              "                                                     [key], {});\n",
              "          if (!dataTable) return;\n",
              "\n",
              "          const docLinkHtml = 'Like what you see? Visit the ' +\n",
              "            '<a target=\"_blank\" href=https://colab.research.google.com/notebooks/data_table.ipynb>data table notebook</a>'\n",
              "            + ' to learn more about interactive tables.';\n",
              "          element.innerHTML = '';\n",
              "          dataTable['output_type'] = 'display_data';\n",
              "          await google.colab.output.renderOutput(dataTable, element);\n",
              "          const docLink = document.createElement('div');\n",
              "          docLink.innerHTML = docLinkHtml;\n",
              "          element.appendChild(docLink);\n",
              "        }\n",
              "      </script>\n",
              "    </div>\n",
              "  </div>\n",
              "  "
            ],
            "text/plain": [
              "             PG_ACRA_1  PG_ACRA_2  ...  PG_ACRA_11  puntaje_EADQ\n",
              "ID_RES_ACRA                        ...                          \n",
              "1                    4          2  ...           2            38\n",
              "2                    2          3  ...           2            26\n",
              "3                    2          2  ...           2            23\n",
              "4                    1          1  ...           1            14\n",
              "5                    3          2  ...           1            20\n",
              "...                ...        ...  ...         ...           ...\n",
              "135                  4          4  ...           3            34\n",
              "136                  2          2  ...           1            21\n",
              "137                  2          2  ...           2            22\n",
              "138                  2          2  ...           2            26\n",
              "139                  4          2  ...           1            32\n",
              "\n",
              "[139 rows x 12 columns]"
            ]
          },
          "metadata": {},
          "execution_count": 107
        }
      ]
    },
    {
      "cell_type": "code",
      "source": [
        "def desarrollo(puntaje_EADQ):\n",
        "  if(puntaje_EADQ>=14 and puntaje_EADQ<23):\n",
        "    desarrollo=0\n",
        "    return desarrollo\n",
        "  elif (puntaje_EADQ>=23 and puntaje_EADQ<32):\n",
        "    desarrollo=1\n",
        "    return desarrollo\n",
        "  else:\n",
        "    desarrollo=2\n",
        "    return desarrollo\n",
        "cambio_EADQ[\"desarrollo\"]=cambio_EADQ[\"puntaje_EADQ\"].apply(desarrollo)"
      ],
      "metadata": {
        "id": "BDRNNz9pBVF0"
      },
      "execution_count": 110,
      "outputs": []
    },
    {
      "cell_type": "code",
      "source": [
        "cambio_EADQ"
      ],
      "metadata": {
        "colab": {
          "base_uri": "https://localhost:8080/",
          "height": 536
        },
        "id": "NHWhH2jEEmZ8",
        "outputId": "ed4fd4c1-c2cb-4bc6-d04e-0878574a2c0a"
      },
      "execution_count": 122,
      "outputs": [
        {
          "output_type": "execute_result",
          "data": {
            "text/html": [
              "\n",
              "  <div id=\"df-49e3f741-febc-4828-b1f8-bd8a8524deee\">\n",
              "    <div class=\"colab-df-container\">\n",
              "      <div>\n",
              "<style scoped>\n",
              "    .dataframe tbody tr th:only-of-type {\n",
              "        vertical-align: middle;\n",
              "    }\n",
              "\n",
              "    .dataframe tbody tr th {\n",
              "        vertical-align: top;\n",
              "    }\n",
              "\n",
              "    .dataframe thead th {\n",
              "        text-align: right;\n",
              "    }\n",
              "</style>\n",
              "<table border=\"1\" class=\"dataframe\">\n",
              "  <thead>\n",
              "    <tr style=\"text-align: right;\">\n",
              "      <th></th>\n",
              "      <th>PG_ACRA_1</th>\n",
              "      <th>PG_ACRA_2</th>\n",
              "      <th>PG_ACRA_3</th>\n",
              "      <th>PG_ACRA_4</th>\n",
              "      <th>PG_ACRA_5</th>\n",
              "      <th>PG_ACRA_6</th>\n",
              "      <th>PG_ACRA_7</th>\n",
              "      <th>PG_ACRA_8</th>\n",
              "      <th>PG_ACRA_9</th>\n",
              "      <th>PG_ACRA_10</th>\n",
              "      <th>PG_ACRA_11</th>\n",
              "      <th>puntaje_EADQ</th>\n",
              "      <th>desarrollo</th>\n",
              "    </tr>\n",
              "    <tr>\n",
              "      <th>ID_RES_ACRA</th>\n",
              "      <th></th>\n",
              "      <th></th>\n",
              "      <th></th>\n",
              "      <th></th>\n",
              "      <th></th>\n",
              "      <th></th>\n",
              "      <th></th>\n",
              "      <th></th>\n",
              "      <th></th>\n",
              "      <th></th>\n",
              "      <th></th>\n",
              "      <th></th>\n",
              "      <th></th>\n",
              "    </tr>\n",
              "  </thead>\n",
              "  <tbody>\n",
              "    <tr>\n",
              "      <th>1</th>\n",
              "      <td>4</td>\n",
              "      <td>2</td>\n",
              "      <td>4</td>\n",
              "      <td>4</td>\n",
              "      <td>4</td>\n",
              "      <td>4</td>\n",
              "      <td>4</td>\n",
              "      <td>4</td>\n",
              "      <td>4</td>\n",
              "      <td>2</td>\n",
              "      <td>2</td>\n",
              "      <td>38</td>\n",
              "      <td>2</td>\n",
              "    </tr>\n",
              "    <tr>\n",
              "      <th>2</th>\n",
              "      <td>2</td>\n",
              "      <td>3</td>\n",
              "      <td>2</td>\n",
              "      <td>2</td>\n",
              "      <td>3</td>\n",
              "      <td>2</td>\n",
              "      <td>2</td>\n",
              "      <td>3</td>\n",
              "      <td>3</td>\n",
              "      <td>2</td>\n",
              "      <td>2</td>\n",
              "      <td>26</td>\n",
              "      <td>1</td>\n",
              "    </tr>\n",
              "    <tr>\n",
              "      <th>3</th>\n",
              "      <td>2</td>\n",
              "      <td>2</td>\n",
              "      <td>2</td>\n",
              "      <td>2</td>\n",
              "      <td>2</td>\n",
              "      <td>2</td>\n",
              "      <td>2</td>\n",
              "      <td>2</td>\n",
              "      <td>3</td>\n",
              "      <td>2</td>\n",
              "      <td>2</td>\n",
              "      <td>23</td>\n",
              "      <td>1</td>\n",
              "    </tr>\n",
              "    <tr>\n",
              "      <th>4</th>\n",
              "      <td>1</td>\n",
              "      <td>1</td>\n",
              "      <td>2</td>\n",
              "      <td>1</td>\n",
              "      <td>1</td>\n",
              "      <td>2</td>\n",
              "      <td>1</td>\n",
              "      <td>1</td>\n",
              "      <td>2</td>\n",
              "      <td>1</td>\n",
              "      <td>1</td>\n",
              "      <td>14</td>\n",
              "      <td>0</td>\n",
              "    </tr>\n",
              "    <tr>\n",
              "      <th>5</th>\n",
              "      <td>3</td>\n",
              "      <td>2</td>\n",
              "      <td>2</td>\n",
              "      <td>2</td>\n",
              "      <td>1</td>\n",
              "      <td>2</td>\n",
              "      <td>2</td>\n",
              "      <td>2</td>\n",
              "      <td>1</td>\n",
              "      <td>2</td>\n",
              "      <td>1</td>\n",
              "      <td>20</td>\n",
              "      <td>0</td>\n",
              "    </tr>\n",
              "    <tr>\n",
              "      <th>...</th>\n",
              "      <td>...</td>\n",
              "      <td>...</td>\n",
              "      <td>...</td>\n",
              "      <td>...</td>\n",
              "      <td>...</td>\n",
              "      <td>...</td>\n",
              "      <td>...</td>\n",
              "      <td>...</td>\n",
              "      <td>...</td>\n",
              "      <td>...</td>\n",
              "      <td>...</td>\n",
              "      <td>...</td>\n",
              "      <td>...</td>\n",
              "    </tr>\n",
              "    <tr>\n",
              "      <th>135</th>\n",
              "      <td>4</td>\n",
              "      <td>4</td>\n",
              "      <td>3</td>\n",
              "      <td>3</td>\n",
              "      <td>3</td>\n",
              "      <td>3</td>\n",
              "      <td>2</td>\n",
              "      <td>2</td>\n",
              "      <td>4</td>\n",
              "      <td>3</td>\n",
              "      <td>3</td>\n",
              "      <td>34</td>\n",
              "      <td>2</td>\n",
              "    </tr>\n",
              "    <tr>\n",
              "      <th>136</th>\n",
              "      <td>2</td>\n",
              "      <td>2</td>\n",
              "      <td>2</td>\n",
              "      <td>1</td>\n",
              "      <td>2</td>\n",
              "      <td>1</td>\n",
              "      <td>2</td>\n",
              "      <td>3</td>\n",
              "      <td>2</td>\n",
              "      <td>3</td>\n",
              "      <td>1</td>\n",
              "      <td>21</td>\n",
              "      <td>0</td>\n",
              "    </tr>\n",
              "    <tr>\n",
              "      <th>137</th>\n",
              "      <td>2</td>\n",
              "      <td>2</td>\n",
              "      <td>2</td>\n",
              "      <td>2</td>\n",
              "      <td>2</td>\n",
              "      <td>2</td>\n",
              "      <td>2</td>\n",
              "      <td>2</td>\n",
              "      <td>2</td>\n",
              "      <td>2</td>\n",
              "      <td>2</td>\n",
              "      <td>22</td>\n",
              "      <td>0</td>\n",
              "    </tr>\n",
              "    <tr>\n",
              "      <th>138</th>\n",
              "      <td>2</td>\n",
              "      <td>2</td>\n",
              "      <td>2</td>\n",
              "      <td>2</td>\n",
              "      <td>2</td>\n",
              "      <td>2</td>\n",
              "      <td>3</td>\n",
              "      <td>3</td>\n",
              "      <td>3</td>\n",
              "      <td>3</td>\n",
              "      <td>2</td>\n",
              "      <td>26</td>\n",
              "      <td>1</td>\n",
              "    </tr>\n",
              "    <tr>\n",
              "      <th>139</th>\n",
              "      <td>4</td>\n",
              "      <td>2</td>\n",
              "      <td>4</td>\n",
              "      <td>4</td>\n",
              "      <td>3</td>\n",
              "      <td>3</td>\n",
              "      <td>4</td>\n",
              "      <td>2</td>\n",
              "      <td>2</td>\n",
              "      <td>3</td>\n",
              "      <td>1</td>\n",
              "      <td>32</td>\n",
              "      <td>2</td>\n",
              "    </tr>\n",
              "  </tbody>\n",
              "</table>\n",
              "<p>139 rows × 13 columns</p>\n",
              "</div>\n",
              "      <button class=\"colab-df-convert\" onclick=\"convertToInteractive('df-49e3f741-febc-4828-b1f8-bd8a8524deee')\"\n",
              "              title=\"Convert this dataframe to an interactive table.\"\n",
              "              style=\"display:none;\">\n",
              "        \n",
              "  <svg xmlns=\"http://www.w3.org/2000/svg\" height=\"24px\"viewBox=\"0 0 24 24\"\n",
              "       width=\"24px\">\n",
              "    <path d=\"M0 0h24v24H0V0z\" fill=\"none\"/>\n",
              "    <path d=\"M18.56 5.44l.94 2.06.94-2.06 2.06-.94-2.06-.94-.94-2.06-.94 2.06-2.06.94zm-11 1L8.5 8.5l.94-2.06 2.06-.94-2.06-.94L8.5 2.5l-.94 2.06-2.06.94zm10 10l.94 2.06.94-2.06 2.06-.94-2.06-.94-.94-2.06-.94 2.06-2.06.94z\"/><path d=\"M17.41 7.96l-1.37-1.37c-.4-.4-.92-.59-1.43-.59-.52 0-1.04.2-1.43.59L10.3 9.45l-7.72 7.72c-.78.78-.78 2.05 0 2.83L4 21.41c.39.39.9.59 1.41.59.51 0 1.02-.2 1.41-.59l7.78-7.78 2.81-2.81c.8-.78.8-2.07 0-2.86zM5.41 20L4 18.59l7.72-7.72 1.47 1.35L5.41 20z\"/>\n",
              "  </svg>\n",
              "      </button>\n",
              "      \n",
              "  <style>\n",
              "    .colab-df-container {\n",
              "      display:flex;\n",
              "      flex-wrap:wrap;\n",
              "      gap: 12px;\n",
              "    }\n",
              "\n",
              "    .colab-df-convert {\n",
              "      background-color: #E8F0FE;\n",
              "      border: none;\n",
              "      border-radius: 50%;\n",
              "      cursor: pointer;\n",
              "      display: none;\n",
              "      fill: #1967D2;\n",
              "      height: 32px;\n",
              "      padding: 0 0 0 0;\n",
              "      width: 32px;\n",
              "    }\n",
              "\n",
              "    .colab-df-convert:hover {\n",
              "      background-color: #E2EBFA;\n",
              "      box-shadow: 0px 1px 2px rgba(60, 64, 67, 0.3), 0px 1px 3px 1px rgba(60, 64, 67, 0.15);\n",
              "      fill: #174EA6;\n",
              "    }\n",
              "\n",
              "    [theme=dark] .colab-df-convert {\n",
              "      background-color: #3B4455;\n",
              "      fill: #D2E3FC;\n",
              "    }\n",
              "\n",
              "    [theme=dark] .colab-df-convert:hover {\n",
              "      background-color: #434B5C;\n",
              "      box-shadow: 0px 1px 3px 1px rgba(0, 0, 0, 0.15);\n",
              "      filter: drop-shadow(0px 1px 2px rgba(0, 0, 0, 0.3));\n",
              "      fill: #FFFFFF;\n",
              "    }\n",
              "  </style>\n",
              "\n",
              "      <script>\n",
              "        const buttonEl =\n",
              "          document.querySelector('#df-49e3f741-febc-4828-b1f8-bd8a8524deee button.colab-df-convert');\n",
              "        buttonEl.style.display =\n",
              "          google.colab.kernel.accessAllowed ? 'block' : 'none';\n",
              "\n",
              "        async function convertToInteractive(key) {\n",
              "          const element = document.querySelector('#df-49e3f741-febc-4828-b1f8-bd8a8524deee');\n",
              "          const dataTable =\n",
              "            await google.colab.kernel.invokeFunction('convertToInteractive',\n",
              "                                                     [key], {});\n",
              "          if (!dataTable) return;\n",
              "\n",
              "          const docLinkHtml = 'Like what you see? Visit the ' +\n",
              "            '<a target=\"_blank\" href=https://colab.research.google.com/notebooks/data_table.ipynb>data table notebook</a>'\n",
              "            + ' to learn more about interactive tables.';\n",
              "          element.innerHTML = '';\n",
              "          dataTable['output_type'] = 'display_data';\n",
              "          await google.colab.output.renderOutput(dataTable, element);\n",
              "          const docLink = document.createElement('div');\n",
              "          docLink.innerHTML = docLinkHtml;\n",
              "          element.appendChild(docLink);\n",
              "        }\n",
              "      </script>\n",
              "    </div>\n",
              "  </div>\n",
              "  "
            ],
            "text/plain": [
              "             PG_ACRA_1  PG_ACRA_2  ...  puntaje_EADQ  desarrollo\n",
              "ID_RES_ACRA                        ...                          \n",
              "1                    4          2  ...            38           2\n",
              "2                    2          3  ...            26           1\n",
              "3                    2          2  ...            23           1\n",
              "4                    1          1  ...            14           0\n",
              "5                    3          2  ...            20           0\n",
              "...                ...        ...  ...           ...         ...\n",
              "135                  4          4  ...            34           2\n",
              "136                  2          2  ...            21           0\n",
              "137                  2          2  ...            22           0\n",
              "138                  2          2  ...            26           1\n",
              "139                  4          2  ...            32           2\n",
              "\n",
              "[139 rows x 13 columns]"
            ]
          },
          "metadata": {},
          "execution_count": 122
        }
      ]
    },
    {
      "cell_type": "markdown",
      "source": [
        "Dividir las variables\n"
      ],
      "metadata": {
        "id": "a0k0W71_FQyM"
      }
    },
    {
      "cell_type": "code",
      "source": [
        "caracteristica = cambio_EADQ.drop([\"desarrollo\"], axis=1)\n",
        "x = np.array(caracteristica)\n",
        "y = np.array(cambio_EADQ[\"desarrollo\"])\n"
      ],
      "metadata": {
        "id": "eE6jDj15FPae"
      },
      "execution_count": 152,
      "outputs": []
    },
    {
      "cell_type": "markdown",
      "source": [
        "#Variables y data a utilizar\n",
        "División de los Datos"
      ],
      "metadata": {
        "id": "jnAJzJcJSUJ8"
      }
    },
    {
      "cell_type": "code",
      "source": [
        "x_train, x_val, y_train, y_val = train_test_split(x, y, random_state=0, test_size=0.2)"
      ],
      "metadata": {
        "id": "U-Tknw_II6IH"
      },
      "execution_count": 171,
      "outputs": []
    },
    {
      "cell_type": "markdown",
      "source": [
        "#Modelamiento\n"
      ],
      "metadata": {
        "id": "WwCw96QvTIXu"
      }
    },
    {
      "cell_type": "code",
      "source": [
        "import pandas as pd\n",
        "from sklearn.tree import DecisionTreeClassifier # Import Decision Tree Classifier\n",
        "from sklearn.model_selection import train_test_split # Import train_test_split function\n",
        "from sklearn import metrics #Import scikit-learn metrics module for accuracy calculation"
      ],
      "metadata": {
        "id": "qXqqCf8NXUzA"
      },
      "execution_count": 172,
      "outputs": []
    },
    {
      "cell_type": "markdown",
      "source": [
        "###Modelo del árboles de decisión\n",
        "\n",
        "```\n",
        "# Esto tiene formato de código\n",
        "```\n",
        "\n"
      ],
      "metadata": {
        "id": "6R005n0zX-ka"
      }
    },
    {
      "cell_type": "code",
      "source": [
        "# Create Decision Tree classifer object\n",
        "tree = DecisionTreeClassifier(max_depth=3)\n",
        "# Train Decision Tree Classifer\n",
        "tree.fit(x_train, y_train)\n",
        "#Predict the response for test dataset\n",
        "y_pred = tree.predict(x_val)"
      ],
      "metadata": {
        "id": "whbXHEugSTMB"
      },
      "execution_count": 178,
      "outputs": []
    },
    {
      "cell_type": "markdown",
      "source": [
        "Modelo de evaluación\n",
        "\n",
        "\n",
        "\n",
        "\n",
        ">Estimemos con qué precisión el clasificador o modelo puede predecir el tipo de cultivares.\n",
        "\n",
        "La precisión se puede calcular comparando los valores reales del conjunto de pruebas y los valores predichos.\n",
        "\n",
        "\n",
        "\n"
      ],
      "metadata": {
        "id": "H0xF39LSY8ue"
      }
    },
    {
      "cell_type": "code",
      "source": [
        "# Model Accuracy, how often is the classifier correct?\n",
        "print(\"Exactitud:\",metrics.accuracy_score(y_val, y_pred))"
      ],
      "metadata": {
        "colab": {
          "base_uri": "https://localhost:8080/"
        },
        "id": "961IH8VyYuF6",
        "outputId": "2f945ef6-8f1f-4ce4-ec46-623cfd4eef07"
      },
      "execution_count": 179,
      "outputs": [
        {
          "output_type": "stream",
          "name": "stdout",
          "text": [
            "Exactitud: 1.0\n"
          ]
        }
      ]
    },
    {
      "cell_type": "markdown",
      "source": [
        " tasa de clasificación del 100%, considerada como una buena precisión."
      ],
      "metadata": {
        "id": "C7Ti-HYbZcsy"
      }
    },
    {
      "cell_type": "code",
      "source": [
        "tree.tree_.max_depth"
      ],
      "metadata": {
        "colab": {
          "base_uri": "https://localhost:8080/"
        },
        "id": "4RquS_jYS1Zh",
        "outputId": "028566f9-858d-4082-bfb5-a415308ab367"
      },
      "execution_count": 175,
      "outputs": [
        {
          "output_type": "execute_result",
          "data": {
            "text/plain": [
              "2"
            ]
          },
          "metadata": {},
          "execution_count": 175
        }
      ]
    },
    {
      "cell_type": "code",
      "source": [
        "!pip install graphviz"
      ],
      "metadata": {
        "colab": {
          "base_uri": "https://localhost:8080/"
        },
        "id": "2mvmaeJeaD-t",
        "outputId": "2475cd87-7e1c-4297-d238-98ccc3bd3bda"
      },
      "execution_count": 167,
      "outputs": [
        {
          "output_type": "stream",
          "name": "stdout",
          "text": [
            "Requirement already satisfied: graphviz in /usr/local/lib/python3.7/dist-packages (0.10.1)\n"
          ]
        }
      ]
    },
    {
      "cell_type": "code",
      "source": [
        "import graphviz \n",
        "from sklearn.tree import export_graphviz"
      ],
      "metadata": {
        "id": "YgdAyKrSZsrU"
      },
      "execution_count": 168,
      "outputs": []
    },
    {
      "cell_type": "code",
      "source": [
        "caracteristica_names = caracteristica.columns\n",
        "\n",
        "dot_data = export_graphviz(tree, out_file=None, \n",
        "                         feature_names=caracteristica_names,  \n",
        "                         class_names=True,  \n",
        "                         filled=True, rounded=True,  \n",
        "                         special_characters=True)  \n",
        "graph = graphviz.Source(dot_data)\n",
        "\n",
        "graph"
      ],
      "metadata": {
        "colab": {
          "base_uri": "https://localhost:8080/",
          "height": 422
        },
        "id": "EyuOKe9ia9Kg",
        "outputId": "7e2122f9-cd7d-4608-a638-96fd790be7bf"
      },
      "execution_count": 170,
      "outputs": [
        {
          "output_type": "execute_result",
          "data": {
            "text/plain": [
              "<graphviz.files.Source at 0x7fb5455a0110>"
            ],
            "image/svg+xml": "<?xml version=\"1.0\" encoding=\"UTF-8\" standalone=\"no\"?>\n<!DOCTYPE svg PUBLIC \"-//W3C//DTD SVG 1.1//EN\"\n \"http://www.w3.org/Graphics/SVG/1.1/DTD/svg11.dtd\">\n<!-- Generated by graphviz version 2.40.1 (20161225.0304)\n -->\n<!-- Title: Tree Pages: 1 -->\n<svg width=\"360pt\" height=\"300pt\"\n viewBox=\"0.00 0.00 360.00 300.00\" xmlns=\"http://www.w3.org/2000/svg\" xmlns:xlink=\"http://www.w3.org/1999/xlink\">\n<g id=\"graph0\" class=\"graph\" transform=\"scale(1 1) rotate(0) translate(4 296)\">\n<title>Tree</title>\n<polygon fill=\"#ffffff\" stroke=\"transparent\" points=\"-4,4 -4,-296 356,-296 356,4 -4,4\"/>\n<!-- 0 -->\n<g id=\"node1\" class=\"node\">\n<title>0</title>\n<path fill=\"#bbf6d4\" stroke=\"#000000\" d=\"M277.5,-292C277.5,-292 143.5,-292 143.5,-292 137.5,-292 131.5,-286 131.5,-280 131.5,-280 131.5,-226 131.5,-226 131.5,-220 137.5,-214 143.5,-214 143.5,-214 277.5,-214 277.5,-214 283.5,-214 289.5,-220 289.5,-226 289.5,-226 289.5,-280 289.5,-280 289.5,-286 283.5,-292 277.5,-292\"/>\n<text text-anchor=\"start\" x=\"139.5\" y=\"-277.8\" font-family=\"Helvetica,sans-Serif\" font-size=\"14.00\" fill=\"#000000\">puntaje_EADQ ≤ 31.5</text>\n<text text-anchor=\"start\" x=\"172.5\" y=\"-263.8\" font-family=\"Helvetica,sans-Serif\" font-size=\"14.00\" fill=\"#000000\">gini = 0.608</text>\n<text text-anchor=\"start\" x=\"166.5\" y=\"-249.8\" font-family=\"Helvetica,sans-Serif\" font-size=\"14.00\" fill=\"#000000\">samples = 97</text>\n<text text-anchor=\"start\" x=\"148.5\" y=\"-235.8\" font-family=\"Helvetica,sans-Serif\" font-size=\"14.00\" fill=\"#000000\">value = [19, 51, 27]</text>\n<text text-anchor=\"start\" x=\"178\" y=\"-221.8\" font-family=\"Helvetica,sans-Serif\" font-size=\"14.00\" fill=\"#000000\">class = y</text>\n<text text-anchor=\"start\" x=\"236\" y=\"-221.8\" font-family=\"Helvetica,sans-Serif\" baseline-shift=\"sub\" font-size=\"14.00\" fill=\"#000000\">1</text>\n</g>\n<!-- 1 -->\n<g id=\"node2\" class=\"node\">\n<title>1</title>\n<path fill=\"#83efb0\" stroke=\"#000000\" d=\"M198.5,-178C198.5,-178 64.5,-178 64.5,-178 58.5,-178 52.5,-172 52.5,-166 52.5,-166 52.5,-112 52.5,-112 52.5,-106 58.5,-100 64.5,-100 64.5,-100 198.5,-100 198.5,-100 204.5,-100 210.5,-106 210.5,-112 210.5,-112 210.5,-166 210.5,-166 210.5,-172 204.5,-178 198.5,-178\"/>\n<text text-anchor=\"start\" x=\"60.5\" y=\"-163.8\" font-family=\"Helvetica,sans-Serif\" font-size=\"14.00\" fill=\"#000000\">puntaje_EADQ ≤ 22.5</text>\n<text text-anchor=\"start\" x=\"93.5\" y=\"-149.8\" font-family=\"Helvetica,sans-Serif\" font-size=\"14.00\" fill=\"#000000\">gini = 0.396</text>\n<text text-anchor=\"start\" x=\"87.5\" y=\"-135.8\" font-family=\"Helvetica,sans-Serif\" font-size=\"14.00\" fill=\"#000000\">samples = 70</text>\n<text text-anchor=\"start\" x=\"74\" y=\"-121.8\" font-family=\"Helvetica,sans-Serif\" font-size=\"14.00\" fill=\"#000000\">value = [19, 51, 0]</text>\n<text text-anchor=\"start\" x=\"99\" y=\"-107.8\" font-family=\"Helvetica,sans-Serif\" font-size=\"14.00\" fill=\"#000000\">class = y</text>\n<text text-anchor=\"start\" x=\"157\" y=\"-107.8\" font-family=\"Helvetica,sans-Serif\" baseline-shift=\"sub\" font-size=\"14.00\" fill=\"#000000\">1</text>\n</g>\n<!-- 0&#45;&gt;1 -->\n<g id=\"edge1\" class=\"edge\">\n<title>0&#45;&gt;1</title>\n<path fill=\"none\" stroke=\"#000000\" d=\"M183.3127,-213.7677C177.2922,-205.0798 170.8476,-195.7801 164.6204,-186.794\"/>\n<polygon fill=\"#000000\" stroke=\"#000000\" points=\"167.3101,-184.5304 158.7374,-178.3046 161.5566,-188.5176 167.3101,-184.5304\"/>\n<text text-anchor=\"middle\" x=\"154.2765\" y=\"-199.2034\" font-family=\"Helvetica,sans-Serif\" font-size=\"14.00\" fill=\"#000000\">True</text>\n</g>\n<!-- 4 -->\n<g id=\"node5\" class=\"node\">\n<title>4</title>\n<path fill=\"#8139e5\" stroke=\"#000000\" d=\"M340,-171C340,-171 241,-171 241,-171 235,-171 229,-165 229,-159 229,-159 229,-119 229,-119 229,-113 235,-107 241,-107 241,-107 340,-107 340,-107 346,-107 352,-113 352,-119 352,-119 352,-159 352,-159 352,-165 346,-171 340,-171\"/>\n<text text-anchor=\"start\" x=\"261\" y=\"-156.8\" font-family=\"Helvetica,sans-Serif\" font-size=\"14.00\" fill=\"#000000\">gini = 0.0</text>\n<text text-anchor=\"start\" x=\"246.5\" y=\"-142.8\" font-family=\"Helvetica,sans-Serif\" font-size=\"14.00\" fill=\"#000000\">samples = 27</text>\n<text text-anchor=\"start\" x=\"237\" y=\"-128.8\" font-family=\"Helvetica,sans-Serif\" font-size=\"14.00\" fill=\"#000000\">value = [0, 0, 27]</text>\n<text text-anchor=\"start\" x=\"258\" y=\"-114.8\" font-family=\"Helvetica,sans-Serif\" font-size=\"14.00\" fill=\"#000000\">class = y</text>\n<text text-anchor=\"start\" x=\"316\" y=\"-114.8\" font-family=\"Helvetica,sans-Serif\" baseline-shift=\"sub\" font-size=\"14.00\" fill=\"#000000\">2</text>\n</g>\n<!-- 0&#45;&gt;4 -->\n<g id=\"edge4\" class=\"edge\">\n<title>0&#45;&gt;4</title>\n<path fill=\"none\" stroke=\"#000000\" d=\"M238.0315,-213.7677C245.8111,-202.6817 254.2899,-190.5994 262.1185,-179.4436\"/>\n<polygon fill=\"#000000\" stroke=\"#000000\" points=\"265.0767,-181.3213 267.956,-171.1252 259.3467,-177.3003 265.0767,-181.3213\"/>\n<text text-anchor=\"middle\" x=\"272.2717\" y=\"-192.0499\" font-family=\"Helvetica,sans-Serif\" font-size=\"14.00\" fill=\"#000000\">False</text>\n</g>\n<!-- 2 -->\n<g id=\"node3\" class=\"node\">\n<title>2</title>\n<path fill=\"#e58139\" stroke=\"#000000\" d=\"M111,-64C111,-64 12,-64 12,-64 6,-64 0,-58 0,-52 0,-52 0,-12 0,-12 0,-6 6,0 12,0 12,0 111,0 111,0 117,0 123,-6 123,-12 123,-12 123,-52 123,-52 123,-58 117,-64 111,-64\"/>\n<text text-anchor=\"start\" x=\"32\" y=\"-49.8\" font-family=\"Helvetica,sans-Serif\" font-size=\"14.00\" fill=\"#000000\">gini = 0.0</text>\n<text text-anchor=\"start\" x=\"17.5\" y=\"-35.8\" font-family=\"Helvetica,sans-Serif\" font-size=\"14.00\" fill=\"#000000\">samples = 19</text>\n<text text-anchor=\"start\" x=\"8\" y=\"-21.8\" font-family=\"Helvetica,sans-Serif\" font-size=\"14.00\" fill=\"#000000\">value = [19, 0, 0]</text>\n<text text-anchor=\"start\" x=\"29\" y=\"-7.8\" font-family=\"Helvetica,sans-Serif\" font-size=\"14.00\" fill=\"#000000\">class = y</text>\n<text text-anchor=\"start\" x=\"87\" y=\"-7.8\" font-family=\"Helvetica,sans-Serif\" baseline-shift=\"sub\" font-size=\"14.00\" fill=\"#000000\">0</text>\n</g>\n<!-- 1&#45;&gt;2 -->\n<g id=\"edge2\" class=\"edge\">\n<title>1&#45;&gt;2</title>\n<path fill=\"none\" stroke=\"#000000\" d=\"M105.8321,-99.7647C100.0962,-90.9971 93.9996,-81.678 88.2222,-72.8469\"/>\n<polygon fill=\"#000000\" stroke=\"#000000\" points=\"90.98,-70.6691 82.5765,-64.2169 85.1222,-74.5013 90.98,-70.6691\"/>\n</g>\n<!-- 3 -->\n<g id=\"node4\" class=\"node\">\n<title>3</title>\n<path fill=\"#39e581\" stroke=\"#000000\" d=\"M252,-64C252,-64 153,-64 153,-64 147,-64 141,-58 141,-52 141,-52 141,-12 141,-12 141,-6 147,0 153,0 153,0 252,0 252,0 258,0 264,-6 264,-12 264,-12 264,-52 264,-52 264,-58 258,-64 252,-64\"/>\n<text text-anchor=\"start\" x=\"173\" y=\"-49.8\" font-family=\"Helvetica,sans-Serif\" font-size=\"14.00\" fill=\"#000000\">gini = 0.0</text>\n<text text-anchor=\"start\" x=\"158.5\" y=\"-35.8\" font-family=\"Helvetica,sans-Serif\" font-size=\"14.00\" fill=\"#000000\">samples = 51</text>\n<text text-anchor=\"start\" x=\"149\" y=\"-21.8\" font-family=\"Helvetica,sans-Serif\" font-size=\"14.00\" fill=\"#000000\">value = [0, 51, 0]</text>\n<text text-anchor=\"start\" x=\"170\" y=\"-7.8\" font-family=\"Helvetica,sans-Serif\" font-size=\"14.00\" fill=\"#000000\">class = y</text>\n<text text-anchor=\"start\" x=\"228\" y=\"-7.8\" font-family=\"Helvetica,sans-Serif\" baseline-shift=\"sub\" font-size=\"14.00\" fill=\"#000000\">1</text>\n</g>\n<!-- 1&#45;&gt;3 -->\n<g id=\"edge3\" class=\"edge\">\n<title>1&#45;&gt;3</title>\n<path fill=\"none\" stroke=\"#000000\" d=\"M157.5346,-99.7647C163.413,-90.9057 169.665,-81.4838 175.579,-72.571\"/>\n<polygon fill=\"#000000\" stroke=\"#000000\" points=\"178.5098,-74.4845 181.1224,-64.2169 172.677,-70.6142 178.5098,-74.4845\"/>\n</g>\n</g>\n</svg>\n"
          },
          "metadata": {},
          "execution_count": 170
        }
      ]
    },
    {
      "cell_type": "markdown",
      "source": [
        ""
      ],
      "metadata": {
        "id": "dtopPKv_aQE6"
      }
    },
    {
      "cell_type": "markdown",
      "source": [
        "Eactitud del modelo"
      ],
      "metadata": {
        "id": "673UFxXvS_GG"
      }
    },
    {
      "cell_type": "code",
      "source": [
        "validation_prediction = tree.predict(x_val)\n",
        "training_prediction = tree.predict(x_train)"
      ],
      "metadata": {
        "id": "wz2qu6J8UAAL"
      },
      "execution_count": 176,
      "outputs": []
    },
    {
      "cell_type": "code",
      "source": [
        "print('Exactitud training data: ', metrics.accuracy_score(y_true=y_train, y_pred=training_prediction))\n",
        "print('Exactitud validation data: ', metrics.accuracy_score(y_true=y_val, y_pred=validation_prediction))"
      ],
      "metadata": {
        "colab": {
          "base_uri": "https://localhost:8080/"
        },
        "id": "g4Iqd95Ic7Ia",
        "outputId": "ed4e1009-2c4d-4ae9-874b-87b3b1a75ee6"
      },
      "execution_count": 177,
      "outputs": [
        {
          "output_type": "stream",
          "name": "stdout",
          "text": [
            "Exactitud training data:  1.0\n",
            "Exactitud validation data:  1.0\n"
          ]
        }
      ]
    },
    {
      "cell_type": "markdown",
      "source": [
        "###Bosques Aleatorios"
      ],
      "metadata": {
        "id": "YaH2wMice4Gi"
      }
    },
    {
      "cell_type": "code",
      "source": [
        "caracteristica = cambio_EADQ.drop([\"desarrollo\"], axis=1)\n",
        "x = np.array(caracteristica)\n",
        "y = np.array(cambio_EADQ[\"desarrollo\"])\n",
        "#División 75% de datos para entrenamiento, 25% de daatos para test\n",
        "X_train, X_test, y_train, y_test = train_test_split(x, y,random_state=0)"
      ],
      "metadata": {
        "id": "UrnUxaHSeqcM"
      },
      "execution_count": 187,
      "outputs": []
    },
    {
      "cell_type": "code",
      "source": [
        "cambio_EADQ"
      ],
      "metadata": {
        "id": "3S8ecWtrj19f"
      },
      "execution_count": null,
      "outputs": []
    },
    {
      "cell_type": "code",
      "source": [
        "#n_estimators: numero de arboles en el bosque\n",
        "from sklearn.ensemble import RandomForestClassifier\n",
        "BA_model = RandomForestClassifier(n_estimators = 50, \n",
        "                                  min_samples_leaf = 1,criterion = 'entropy')"
      ],
      "metadata": {
        "id": "PWLHSQ5QidcQ"
      },
      "execution_count": 189,
      "outputs": []
    },
    {
      "cell_type": "code",
      "source": [
        "BA_model.fit(X_train, y_train)"
      ],
      "metadata": {
        "colab": {
          "base_uri": "https://localhost:8080/"
        },
        "id": "M64dFyPbjpY_",
        "outputId": "1573d3a9-3ffb-41cb-ffe2-628579f3817c"
      },
      "execution_count": 190,
      "outputs": [
        {
          "output_type": "execute_result",
          "data": {
            "text/plain": [
              "RandomForestClassifier(criterion='entropy', n_estimators=50)"
            ]
          },
          "metadata": {},
          "execution_count": 190
        }
      ]
    },
    {
      "cell_type": "code",
      "source": [
        "y_pred=BA_model.predict(X_test)"
      ],
      "metadata": {
        "id": "zZNlxqqNk4Wu"
      },
      "execution_count": 192,
      "outputs": []
    },
    {
      "cell_type": "code",
      "source": [
        "#Random Forest para TEST ACRA\n",
        "BA_model.score(X_test, y_test)"
      ],
      "metadata": {
        "colab": {
          "base_uri": "https://localhost:8080/"
        },
        "id": "CEnf3yUvkFfp",
        "outputId": "86f53e89-ef4a-4f9c-d1e0-fadc19967931"
      },
      "execution_count": 191,
      "outputs": [
        {
          "output_type": "execute_result",
          "data": {
            "text/plain": [
              "1.0"
            ]
          },
          "metadata": {},
          "execution_count": 191
        }
      ]
    },
    {
      "cell_type": "code",
      "source": [
        "#Import scikit-learn metrics module for accuracy calculation\n",
        "from sklearn import metrics\n",
        "# Model Accuracy, how often is the classifier correct?\n",
        "print(\"Exactitud:\",metrics.accuracy_score(y_test, y_pred))"
      ],
      "metadata": {
        "colab": {
          "base_uri": "https://localhost:8080/"
        },
        "id": "SI34FbG6lBzd",
        "outputId": "329d4602-57f9-46bd-bd76-dc545bb4f261"
      },
      "execution_count": 193,
      "outputs": [
        {
          "output_type": "stream",
          "name": "stdout",
          "text": [
            "Exactitud: 1.0\n"
          ]
        }
      ]
    },
    {
      "cell_type": "markdown",
      "source": [
        ""
      ],
      "metadata": {
        "id": "YKJFQA6Ajo5b"
      }
    },
    {
      "cell_type": "markdown",
      "source": [
        "\n",
        "\n",
        "---\n",
        "\n"
      ],
      "metadata": {
        "id": "rQ65eMP3eihI"
      }
    },
    {
      "cell_type": "code",
      "source": [
        "#sns.relplot(data=tips, x=\"total_bill\", y=\"EDAD\", hue=\"SEXO\", col=\"CONDICION_ESTUDIANTE\", col_wrap=2)\n",
        "sb.jointplot(x='puntaje_EADQ', y='EDAD', data=EADQ, kind='reg')"
      ],
      "metadata": {
        "colab": {
          "base_uri": "https://localhost:8080/",
          "height": 460
        },
        "id": "W5_z-3Vcuasj",
        "outputId": "4abc088c-c03f-421d-8680-30d8641d3ea9"
      },
      "execution_count": 97,
      "outputs": [
        {
          "output_type": "execute_result",
          "data": {
            "text/plain": [
              "<seaborn.axisgrid.JointGrid at 0x7fb546f9bfd0>"
            ]
          },
          "metadata": {},
          "execution_count": 97
        },
        {
          "output_type": "display_data",
          "data": {
            "image/png": "[encoded data removed]",
            "text/plain": [
              "<Figure size 432x432 with 3 Axes>"
            ]
          },
          "metadata": {
            "needs_background": "light"
          }
        }
      ]
    },
    {
      "cell_type": "code",
      "source": [
        "sb.jointplot(x='puntaje_EADQ', y='EDAD', data=EADQ, kind='kde')"
      ],
      "metadata": {
        "colab": {
          "base_uri": "https://localhost:8080/",
          "height": 460
        },
        "id": "CRbbAdBuvU8A",
        "outputId": "fdaceada-2f70-45aa-806e-da1e35d8a796"
      },
      "execution_count": 100,
      "outputs": [
        {
          "output_type": "execute_result",
          "data": {
            "text/plain": [
              "<seaborn.axisgrid.JointGrid at 0x7fb546ae24d0>"
            ]
          },
          "metadata": {},
          "execution_count": 100
        },
        {
          "output_type": "display_data",
          "data": {
            "image/png": "[encoded data removed]",
            "text/plain": [
              "<Figure size 432x432 with 3 Axes>"
            ]
          },
          "metadata": {
            "needs_background": "light"
          }
        }
      ]
    },
    {
      "cell_type": "markdown",
      "source": [
        ""
      ],
      "metadata": {
        "id": "7mMBlpPonQNZ"
      }
    },
    {
      "cell_type": "code",
      "source": [
        ""
      ],
      "metadata": {
        "id": "cl5FzVKNo152"
      },
      "execution_count": null,
      "outputs": []
    },
    {
      "cell_type": "markdown",
      "source": [
        "#EVALUACIÖN"
      ],
      "metadata": {
        "id": "xtqJ8vT9sOEY"
      }
    },
    {
      "cell_type": "code",
      "source": [
        "from sklearn import metrics\n",
        "from sklearn.metrics import confusion_matrix\n",
        "from sklearn.metrics import classification_report\n",
        "from sklearn.metrics import accuracy_score\n",
        "from sklearn.metrics import precision_score\n",
        "from sklearn.metrics import recall_score\n",
        "from sklearn.metrics import f1_score\n",
        "\n",
        "def evaluacion_modelo(y_test,y_pred):\n",
        "  print(\"Matriz de confusión\")\n",
        "  print(confusion_matrix(y_test, y_pred))\n",
        "  print(\"\")\n",
        "\n",
        "  print(\"Reporte de clasificación\")\n",
        "  print(classification_report(y_test, y_pred))"
      ],
      "metadata": {
        "id": "ua18YWmipULA"
      },
      "execution_count": 204,
      "outputs": []
    },
    {
      "cell_type": "code",
      "source": [
        "caracteristica = cambio_EADQ.drop([\"desarrollo\"], axis=1)\n",
        "x = np.array(caracteristica)\n",
        "y = np.array(cambio_EADQ[\"desarrollo\"])\n"
      ],
      "metadata": {
        "id": "_hgLW07Mo2Kw"
      },
      "execution_count": 205,
      "outputs": []
    },
    {
      "cell_type": "code",
      "source": [
        "x_train, x_test, y_train, y_test = train_test_split(x, y, random_state=0, test_size=0.2)"
      ],
      "metadata": {
        "id": "g4GVE_blo2Kx"
      },
      "execution_count": 206,
      "outputs": []
    },
    {
      "cell_type": "code",
      "source": [
        "#Algoritmo 1\n",
        "print(\"Arbol de decision(profundidad=3\")\n",
        "from sklearn.tree import DecisionTreeClassifier\n",
        "\n",
        "# Create Decision Tree classifer object\n",
        "tree = DecisionTreeClassifier(max_depth=3)\n",
        "# Train Decision Tree Classifer\n",
        "tree.fit(x_train, y_train)\n",
        "#Predict the response for test dataset\n",
        "y_pred = tree.predict(x_test)\n",
        "\n",
        "evaluacion_modelo(y_test,y_pred)\n",
        "\n",
        "print('Precision del modelo '+ str(round(precision_score(y_test, y_pred, average='micro'),5)))\n",
        "print(\"Precision por dato\")\n",
        "precision_score(y_test, y_pred, average =None)"
      ],
      "metadata": {
        "colab": {
          "base_uri": "https://localhost:8080/"
        },
        "id": "xyNaSPC7nQpu",
        "outputId": "62f4593f-5274-4f35-8bbb-54de4d42cf72"
      },
      "execution_count": 210,
      "outputs": [
        {
          "output_type": "stream",
          "name": "stdout",
          "text": [
            "Arbol de decision(profundidad=3\n",
            "Matriz de confusión\n",
            "[[ 6  0  0]\n",
            " [ 0 19  0]\n",
            " [ 0  0  3]]\n",
            "\n",
            "Reporte de clasificación\n",
            "              precision    recall  f1-score   support\n",
            "\n",
            "           0       1.00      1.00      1.00         6\n",
            "           1       1.00      1.00      1.00        19\n",
            "           2       1.00      1.00      1.00         3\n",
            "\n",
            "    accuracy                           1.00        28\n",
            "   macro avg       1.00      1.00      1.00        28\n",
            "weighted avg       1.00      1.00      1.00        28\n",
            "\n",
            "Precision del modelo 1.0\n",
            "Precision por dato\n"
          ]
        },
        {
          "output_type": "execute_result",
          "data": {
            "text/plain": [
              "array([1., 1., 1.])"
            ]
          },
          "metadata": {},
          "execution_count": 210
        }
      ]
    },
    {
      "cell_type": "code",
      "source": [
        ""
      ],
      "metadata": {
        "id": "E6NdwiK1s67P"
      },
      "execution_count": null,
      "outputs": []
    },
    {
      "cell_type": "code",
      "source": [
        "#Algoritmo 2\n",
        "print(\"Bosques Aleatorios\")\n",
        "\n",
        "#Import scikit-learn metrics module for accuracy calculation\n",
        "from sklearn import metrics\n",
        "# Model Accuracy, how often is the classifier correct?\n",
        "print(\"Exactitud:\",metrics.accuracy_score(y_test, y_pred))"
      ],
      "metadata": {
        "colab": {
          "base_uri": "https://localhost:8080/"
        },
        "outputId": "eb0b1eb4-ba1a-43e1-d187-a0ce41d03727",
        "id": "VKkvCG9Ys7K8"
      },
      "execution_count": 212,
      "outputs": [
        {
          "output_type": "stream",
          "name": "stdout",
          "text": [
            "Bosques Aleatorios\n",
            "Exactitud: 1.0\n"
          ]
        }
      ]
    }
  ]
}